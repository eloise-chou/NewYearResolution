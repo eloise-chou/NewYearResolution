{
 "cells": [
  {
   "cell_type": "markdown",
   "metadata": {},
   "source": [
    "# Import"
   ]
  },
  {
   "cell_type": "code",
   "execution_count": 1,
   "metadata": {},
   "outputs": [],
   "source": [
    "import pandas as pd\n",
    "import numpy as np\n",
    "import plotly.express as px\n",
    "from pathlib import Path"
   ]
  },
  {
   "cell_type": "code",
   "execution_count": 27,
   "metadata": {},
   "outputs": [],
   "source": [
    "MRT_2021 = pd.read_csv('./DATA/MRT_raw_data/202112.csv')"
   ]
  },
  {
   "cell_type": "code",
   "execution_count": 28,
   "metadata": {},
   "outputs": [
    {
     "data": {
      "text/html": [
       "<div>\n",
       "<style scoped>\n",
       "    .dataframe tbody tr th:only-of-type {\n",
       "        vertical-align: middle;\n",
       "    }\n",
       "\n",
       "    .dataframe tbody tr th {\n",
       "        vertical-align: top;\n",
       "    }\n",
       "\n",
       "    .dataframe thead th {\n",
       "        text-align: right;\n",
       "    }\n",
       "</style>\n",
       "<table border=\"1\" class=\"dataframe\">\n",
       "  <thead>\n",
       "    <tr style=\"text-align: right;\">\n",
       "      <th></th>\n",
       "      <th>日期</th>\n",
       "      <th>時段</th>\n",
       "      <th>進站</th>\n",
       "      <th>出站</th>\n",
       "      <th>人次</th>\n",
       "    </tr>\n",
       "  </thead>\n",
       "  <tbody>\n",
       "    <tr>\n",
       "      <th>0</th>\n",
       "      <td>2023-12-01</td>\n",
       "      <td>0</td>\n",
       "      <td>松山機場</td>\n",
       "      <td>松山機場</td>\n",
       "      <td>0</td>\n",
       "    </tr>\n",
       "    <tr>\n",
       "      <th>1</th>\n",
       "      <td>2023-12-01</td>\n",
       "      <td>0</td>\n",
       "      <td>松山機場</td>\n",
       "      <td>中山國中</td>\n",
       "      <td>0</td>\n",
       "    </tr>\n",
       "    <tr>\n",
       "      <th>2</th>\n",
       "      <td>2023-12-01</td>\n",
       "      <td>0</td>\n",
       "      <td>松山機場</td>\n",
       "      <td>南京復興</td>\n",
       "      <td>0</td>\n",
       "    </tr>\n",
       "    <tr>\n",
       "      <th>3</th>\n",
       "      <td>2023-12-01</td>\n",
       "      <td>0</td>\n",
       "      <td>松山機場</td>\n",
       "      <td>忠孝復興</td>\n",
       "      <td>0</td>\n",
       "    </tr>\n",
       "    <tr>\n",
       "      <th>4</th>\n",
       "      <td>2023-12-01</td>\n",
       "      <td>0</td>\n",
       "      <td>松山機場</td>\n",
       "      <td>大安</td>\n",
       "      <td>0</td>\n",
       "    </tr>\n",
       "    <tr>\n",
       "      <th>...</th>\n",
       "      <td>...</td>\n",
       "      <td>...</td>\n",
       "      <td>...</td>\n",
       "      <td>...</td>\n",
       "      <td>...</td>\n",
       "    </tr>\n",
       "    <tr>\n",
       "      <th>8418055</th>\n",
       "      <td>2024-01-01</td>\n",
       "      <td>5</td>\n",
       "      <td>新北產業園區</td>\n",
       "      <td>徐匯中學</td>\n",
       "      <td>0</td>\n",
       "    </tr>\n",
       "    <tr>\n",
       "      <th>8418056</th>\n",
       "      <td>2024-01-01</td>\n",
       "      <td>5</td>\n",
       "      <td>新北產業園區</td>\n",
       "      <td>三和國中</td>\n",
       "      <td>0</td>\n",
       "    </tr>\n",
       "    <tr>\n",
       "      <th>8418057</th>\n",
       "      <td>2024-01-01</td>\n",
       "      <td>5</td>\n",
       "      <td>新北產業園區</td>\n",
       "      <td>三重國小</td>\n",
       "      <td>0</td>\n",
       "    </tr>\n",
       "    <tr>\n",
       "      <th>8418058</th>\n",
       "      <td>2024-01-01</td>\n",
       "      <td>5</td>\n",
       "      <td>新北產業園區</td>\n",
       "      <td>迴龍</td>\n",
       "      <td>1</td>\n",
       "    </tr>\n",
       "    <tr>\n",
       "      <th>8418059</th>\n",
       "      <td>2024-01-01</td>\n",
       "      <td>5</td>\n",
       "      <td>新北產業園區</td>\n",
       "      <td>丹鳳</td>\n",
       "      <td>0</td>\n",
       "    </tr>\n",
       "  </tbody>\n",
       "</table>\n",
       "<p>8418060 rows × 5 columns</p>\n",
       "</div>"
      ],
      "text/plain": [
       "                 日期  時段      進站    出站  人次\n",
       "0        2023-12-01   0    松山機場  松山機場   0\n",
       "1        2023-12-01   0    松山機場  中山國中   0\n",
       "2        2023-12-01   0    松山機場  南京復興   0\n",
       "3        2023-12-01   0    松山機場  忠孝復興   0\n",
       "4        2023-12-01   0    松山機場    大安   0\n",
       "...             ...  ..     ...   ...  ..\n",
       "8418055  2024-01-01   5  新北產業園區  徐匯中學   0\n",
       "8418056  2024-01-01   5  新北產業園區  三和國中   0\n",
       "8418057  2024-01-01   5  新北產業園區  三重國小   0\n",
       "8418058  2024-01-01   5  新北產業園區    迴龍   1\n",
       "8418059  2024-01-01   5  新北產業園區    丹鳳   0\n",
       "\n",
       "[8418060 rows x 5 columns]"
      ]
     },
     "execution_count": 28,
     "metadata": {},
     "output_type": "execute_result"
    }
   ],
   "source": [
    "MRT_2021"
   ]
  },
  {
   "cell_type": "code",
   "execution_count": 8,
   "metadata": {},
   "outputs": [
    {
     "data": {
      "text/html": [
       "<div>\n",
       "<style scoped>\n",
       "    .dataframe tbody tr th:only-of-type {\n",
       "        vertical-align: middle;\n",
       "    }\n",
       "\n",
       "    .dataframe tbody tr th {\n",
       "        vertical-align: top;\n",
       "    }\n",
       "\n",
       "    .dataframe thead th {\n",
       "        text-align: right;\n",
       "    }\n",
       "</style>\n",
       "<table border=\"1\" class=\"dataframe\">\n",
       "  <thead>\n",
       "    <tr style=\"text-align: right;\">\n",
       "      <th></th>\n",
       "      <th>日期</th>\n",
       "      <th>時段</th>\n",
       "      <th>進站</th>\n",
       "      <th>出站</th>\n",
       "      <th>人次</th>\n",
       "    </tr>\n",
       "  </thead>\n",
       "  <tbody>\n",
       "    <tr>\n",
       "      <th>0</th>\n",
       "      <td>2021-12-01</td>\n",
       "      <td>0</td>\n",
       "      <td>松山機場</td>\n",
       "      <td>松山機場</td>\n",
       "      <td>0</td>\n",
       "    </tr>\n",
       "    <tr>\n",
       "      <th>1</th>\n",
       "      <td>2021-12-01</td>\n",
       "      <td>0</td>\n",
       "      <td>松山機場</td>\n",
       "      <td>中山國中</td>\n",
       "      <td>0</td>\n",
       "    </tr>\n",
       "    <tr>\n",
       "      <th>2</th>\n",
       "      <td>2021-12-01</td>\n",
       "      <td>0</td>\n",
       "      <td>松山機場</td>\n",
       "      <td>南京復興</td>\n",
       "      <td>0</td>\n",
       "    </tr>\n",
       "    <tr>\n",
       "      <th>3</th>\n",
       "      <td>2021-12-01</td>\n",
       "      <td>0</td>\n",
       "      <td>松山機場</td>\n",
       "      <td>忠孝復興</td>\n",
       "      <td>0</td>\n",
       "    </tr>\n",
       "    <tr>\n",
       "      <th>4</th>\n",
       "      <td>2021-12-01</td>\n",
       "      <td>0</td>\n",
       "      <td>松山機場</td>\n",
       "      <td>大安</td>\n",
       "      <td>0</td>\n",
       "    </tr>\n",
       "    <tr>\n",
       "      <th>...</th>\n",
       "      <td>...</td>\n",
       "      <td>...</td>\n",
       "      <td>...</td>\n",
       "      <td>...</td>\n",
       "      <td>...</td>\n",
       "    </tr>\n",
       "    <tr>\n",
       "      <th>8935586</th>\n",
       "      <td>2021-12-31</td>\n",
       "      <td>0</td>\n",
       "      <td>新北產業園區</td>\n",
       "      <td>板新</td>\n",
       "      <td>2</td>\n",
       "    </tr>\n",
       "    <tr>\n",
       "      <th>8935587</th>\n",
       "      <td>2021-12-31</td>\n",
       "      <td>0</td>\n",
       "      <td>新北產業園區</td>\n",
       "      <td>Y板橋</td>\n",
       "      <td>5</td>\n",
       "    </tr>\n",
       "    <tr>\n",
       "      <th>8935588</th>\n",
       "      <td>2021-12-31</td>\n",
       "      <td>0</td>\n",
       "      <td>新北產業園區</td>\n",
       "      <td>新埔民生</td>\n",
       "      <td>1</td>\n",
       "    </tr>\n",
       "    <tr>\n",
       "      <th>8935589</th>\n",
       "      <td>2021-12-31</td>\n",
       "      <td>0</td>\n",
       "      <td>新北產業園區</td>\n",
       "      <td>幸福</td>\n",
       "      <td>1</td>\n",
       "    </tr>\n",
       "    <tr>\n",
       "      <th>8935590</th>\n",
       "      <td>2021-12-31</td>\n",
       "      <td>0</td>\n",
       "      <td>新北產業園區</td>\n",
       "      <td>新北產業園區</td>\n",
       "      <td>0</td>\n",
       "    </tr>\n",
       "  </tbody>\n",
       "</table>\n",
       "<p>438991 rows × 5 columns</p>\n",
       "</div>"
      ],
      "text/plain": [
       "                 日期  時段      進站      出站  人次\n",
       "0        2021-12-01   0    松山機場    松山機場   0\n",
       "1        2021-12-01   0    松山機場    中山國中   0\n",
       "2        2021-12-01   0    松山機場    南京復興   0\n",
       "3        2021-12-01   0    松山機場    忠孝復興   0\n",
       "4        2021-12-01   0    松山機場      大安   0\n",
       "...             ...  ..     ...     ...  ..\n",
       "8935586  2021-12-31   0  新北產業園區      板新   2\n",
       "8935587  2021-12-31   0  新北產業園區     Y板橋   5\n",
       "8935588  2021-12-31   0  新北產業園區    新埔民生   1\n",
       "8935589  2021-12-31   0  新北產業園區      幸福   1\n",
       "8935590  2021-12-31   0  新北產業園區  新北產業園區   0\n",
       "\n",
       "[438991 rows x 5 columns]"
      ]
     },
     "execution_count": 8,
     "metadata": {},
     "output_type": "execute_result"
    }
   ],
   "source": [
    "MRT_2021[MRT_2021['時段'] == 0]"
   ]
  },
  {
   "cell_type": "code",
   "execution_count": 4,
   "metadata": {},
   "outputs": [
    {
     "data": {
      "text/plain": [
       "array([ 0,  1,  5,  6,  7,  8,  9, 10, 11, 12, 13, 14, 15, 16, 17, 18, 19,\n",
       "       20, 21, 22, 23,  2,  3,  4], dtype=int64)"
      ]
     },
     "execution_count": 4,
     "metadata": {},
     "output_type": "execute_result"
    }
   ],
   "source": [
    "MRT_2021['時段'].unique()"
   ]
  },
  {
   "cell_type": "code",
   "execution_count": 12,
   "metadata": {},
   "outputs": [
    {
     "data": {
      "text/html": [
       "<div>\n",
       "<style scoped>\n",
       "    .dataframe tbody tr th:only-of-type {\n",
       "        vertical-align: middle;\n",
       "    }\n",
       "\n",
       "    .dataframe tbody tr th {\n",
       "        vertical-align: top;\n",
       "    }\n",
       "\n",
       "    .dataframe thead th {\n",
       "        text-align: right;\n",
       "    }\n",
       "</style>\n",
       "<table border=\"1\" class=\"dataframe\">\n",
       "  <thead>\n",
       "    <tr style=\"text-align: right;\">\n",
       "      <th></th>\n",
       "      <th>日期</th>\n",
       "      <th>時段</th>\n",
       "      <th>進站</th>\n",
       "      <th>出站</th>\n",
       "      <th>人次</th>\n",
       "    </tr>\n",
       "  </thead>\n",
       "  <tbody>\n",
       "    <tr>\n",
       "      <th>8921430</th>\n",
       "      <td>2021-12-31</td>\n",
       "      <td>0</td>\n",
       "      <td>松山機場</td>\n",
       "      <td>松山機場</td>\n",
       "      <td>0</td>\n",
       "    </tr>\n",
       "    <tr>\n",
       "      <th>8921431</th>\n",
       "      <td>2021-12-31</td>\n",
       "      <td>0</td>\n",
       "      <td>松山機場</td>\n",
       "      <td>中山國中</td>\n",
       "      <td>0</td>\n",
       "    </tr>\n",
       "    <tr>\n",
       "      <th>8921432</th>\n",
       "      <td>2021-12-31</td>\n",
       "      <td>0</td>\n",
       "      <td>松山機場</td>\n",
       "      <td>南京復興</td>\n",
       "      <td>1</td>\n",
       "    </tr>\n",
       "    <tr>\n",
       "      <th>8921433</th>\n",
       "      <td>2021-12-31</td>\n",
       "      <td>0</td>\n",
       "      <td>松山機場</td>\n",
       "      <td>忠孝復興</td>\n",
       "      <td>0</td>\n",
       "    </tr>\n",
       "    <tr>\n",
       "      <th>8921434</th>\n",
       "      <td>2021-12-31</td>\n",
       "      <td>0</td>\n",
       "      <td>松山機場</td>\n",
       "      <td>大安</td>\n",
       "      <td>0</td>\n",
       "    </tr>\n",
       "    <tr>\n",
       "      <th>...</th>\n",
       "      <td>...</td>\n",
       "      <td>...</td>\n",
       "      <td>...</td>\n",
       "      <td>...</td>\n",
       "      <td>...</td>\n",
       "    </tr>\n",
       "    <tr>\n",
       "      <th>9275450</th>\n",
       "      <td>2022-01-01</td>\n",
       "      <td>5</td>\n",
       "      <td>新北產業園區</td>\n",
       "      <td>板新</td>\n",
       "      <td>1</td>\n",
       "    </tr>\n",
       "    <tr>\n",
       "      <th>9275451</th>\n",
       "      <td>2022-01-01</td>\n",
       "      <td>5</td>\n",
       "      <td>新北產業園區</td>\n",
       "      <td>Y板橋</td>\n",
       "      <td>3</td>\n",
       "    </tr>\n",
       "    <tr>\n",
       "      <th>9275452</th>\n",
       "      <td>2022-01-01</td>\n",
       "      <td>5</td>\n",
       "      <td>新北產業園區</td>\n",
       "      <td>新埔民生</td>\n",
       "      <td>1</td>\n",
       "    </tr>\n",
       "    <tr>\n",
       "      <th>9275453</th>\n",
       "      <td>2022-01-01</td>\n",
       "      <td>5</td>\n",
       "      <td>新北產業園區</td>\n",
       "      <td>幸福</td>\n",
       "      <td>0</td>\n",
       "    </tr>\n",
       "    <tr>\n",
       "      <th>9275454</th>\n",
       "      <td>2022-01-01</td>\n",
       "      <td>5</td>\n",
       "      <td>新北產業園區</td>\n",
       "      <td>新北產業園區</td>\n",
       "      <td>0</td>\n",
       "    </tr>\n",
       "  </tbody>\n",
       "</table>\n",
       "<p>113288 rows × 5 columns</p>\n",
       "</div>"
      ],
      "text/plain": [
       "                 日期  時段      進站      出站  人次\n",
       "8921430  2021-12-31   0    松山機場    松山機場   0\n",
       "8921431  2021-12-31   0    松山機場    中山國中   0\n",
       "8921432  2021-12-31   0    松山機場    南京復興   1\n",
       "8921433  2021-12-31   0    松山機場    忠孝復興   0\n",
       "8921434  2021-12-31   0    松山機場      大安   0\n",
       "...             ...  ..     ...     ...  ..\n",
       "9275450  2022-01-01   5  新北產業園區      板新   1\n",
       "9275451  2022-01-01   5  新北產業園區     Y板橋   3\n",
       "9275452  2022-01-01   5  新北產業園區    新埔民生   1\n",
       "9275453  2022-01-01   5  新北產業園區      幸福   0\n",
       "9275454  2022-01-01   5  新北產業園區  新北產業園區   0\n",
       "\n",
       "[113288 rows x 5 columns]"
      ]
     },
     "execution_count": 12,
     "metadata": {},
     "output_type": "execute_result"
    }
   ],
   "source": [
    "condition_1 = (MRT_2021['日期'].str.contains('12-31')) & (MRT_2021['時段'].isin([22, 23, 0, 1]))\n",
    "\n",
    "# Filter for \"01-01\" and \"時段\" in [0, 1, 2, 3, 4, 5]\n",
    "condition_2 = (MRT_2021['日期'].str.contains('01-01')) & (MRT_2021['時段'].isin([2, 3, 4, 5]))\n",
    "\n",
    "# Combine the conditions using logical OR (|)\n",
    "final_condition = condition_1 | condition_2\n",
    "\n",
    "result_df = MRT_2021[final_condition]\n",
    "\n",
    "result_df"
   ]
  },
  {
   "cell_type": "code",
   "execution_count": 13,
   "metadata": {},
   "outputs": [
    {
     "data": {
      "text/html": [
       "<div>\n",
       "<style scoped>\n",
       "    .dataframe tbody tr th:only-of-type {\n",
       "        vertical-align: middle;\n",
       "    }\n",
       "\n",
       "    .dataframe tbody tr th {\n",
       "        vertical-align: top;\n",
       "    }\n",
       "\n",
       "    .dataframe thead th {\n",
       "        text-align: right;\n",
       "    }\n",
       "</style>\n",
       "<table border=\"1\" class=\"dataframe\">\n",
       "  <thead>\n",
       "    <tr style=\"text-align: right;\">\n",
       "      <th></th>\n",
       "      <th>日期</th>\n",
       "      <th>時段</th>\n",
       "      <th>進站</th>\n",
       "      <th>出站</th>\n",
       "      <th>人次</th>\n",
       "    </tr>\n",
       "  </thead>\n",
       "  <tbody>\n",
       "    <tr>\n",
       "      <th>8935591</th>\n",
       "      <td>2021-12-31</td>\n",
       "      <td>1</td>\n",
       "      <td>松山機場</td>\n",
       "      <td>松山機場</td>\n",
       "      <td>3</td>\n",
       "    </tr>\n",
       "    <tr>\n",
       "      <th>8935592</th>\n",
       "      <td>2021-12-31</td>\n",
       "      <td>1</td>\n",
       "      <td>松山機場</td>\n",
       "      <td>中山國中</td>\n",
       "      <td>0</td>\n",
       "    </tr>\n",
       "    <tr>\n",
       "      <th>8935593</th>\n",
       "      <td>2021-12-31</td>\n",
       "      <td>1</td>\n",
       "      <td>松山機場</td>\n",
       "      <td>南京復興</td>\n",
       "      <td>0</td>\n",
       "    </tr>\n",
       "    <tr>\n",
       "      <th>8935594</th>\n",
       "      <td>2021-12-31</td>\n",
       "      <td>1</td>\n",
       "      <td>松山機場</td>\n",
       "      <td>忠孝復興</td>\n",
       "      <td>0</td>\n",
       "    </tr>\n",
       "    <tr>\n",
       "      <th>8935595</th>\n",
       "      <td>2021-12-31</td>\n",
       "      <td>1</td>\n",
       "      <td>松山機場</td>\n",
       "      <td>大安</td>\n",
       "      <td>0</td>\n",
       "    </tr>\n",
       "    <tr>\n",
       "      <th>...</th>\n",
       "      <td>...</td>\n",
       "      <td>...</td>\n",
       "      <td>...</td>\n",
       "      <td>...</td>\n",
       "      <td>...</td>\n",
       "    </tr>\n",
       "    <tr>\n",
       "      <th>8949747</th>\n",
       "      <td>2021-12-31</td>\n",
       "      <td>1</td>\n",
       "      <td>新北產業園區</td>\n",
       "      <td>板新</td>\n",
       "      <td>3</td>\n",
       "    </tr>\n",
       "    <tr>\n",
       "      <th>8949748</th>\n",
       "      <td>2021-12-31</td>\n",
       "      <td>1</td>\n",
       "      <td>新北產業園區</td>\n",
       "      <td>Y板橋</td>\n",
       "      <td>10</td>\n",
       "    </tr>\n",
       "    <tr>\n",
       "      <th>8949749</th>\n",
       "      <td>2021-12-31</td>\n",
       "      <td>1</td>\n",
       "      <td>新北產業園區</td>\n",
       "      <td>新埔民生</td>\n",
       "      <td>7</td>\n",
       "    </tr>\n",
       "    <tr>\n",
       "      <th>8949750</th>\n",
       "      <td>2021-12-31</td>\n",
       "      <td>1</td>\n",
       "      <td>新北產業園區</td>\n",
       "      <td>幸福</td>\n",
       "      <td>9</td>\n",
       "    </tr>\n",
       "    <tr>\n",
       "      <th>8949751</th>\n",
       "      <td>2021-12-31</td>\n",
       "      <td>1</td>\n",
       "      <td>新北產業園區</td>\n",
       "      <td>新北產業園區</td>\n",
       "      <td>4</td>\n",
       "    </tr>\n",
       "  </tbody>\n",
       "</table>\n",
       "<p>14161 rows × 5 columns</p>\n",
       "</div>"
      ],
      "text/plain": [
       "                 日期  時段      進站      出站  人次\n",
       "8935591  2021-12-31   1    松山機場    松山機場   3\n",
       "8935592  2021-12-31   1    松山機場    中山國中   0\n",
       "8935593  2021-12-31   1    松山機場    南京復興   0\n",
       "8935594  2021-12-31   1    松山機場    忠孝復興   0\n",
       "8935595  2021-12-31   1    松山機場      大安   0\n",
       "...             ...  ..     ...     ...  ..\n",
       "8949747  2021-12-31   1  新北產業園區      板新   3\n",
       "8949748  2021-12-31   1  新北產業園區     Y板橋  10\n",
       "8949749  2021-12-31   1  新北產業園區    新埔民生   7\n",
       "8949750  2021-12-31   1  新北產業園區      幸福   9\n",
       "8949751  2021-12-31   1  新北產業園區  新北產業園區   4\n",
       "\n",
       "[14161 rows x 5 columns]"
      ]
     },
     "execution_count": 13,
     "metadata": {},
     "output_type": "execute_result"
    }
   ],
   "source": [
    "result_df[result_df['時段'] == 1]"
   ]
  },
  {
   "cell_type": "markdown",
   "metadata": {},
   "source": [
    "為什麼 2021"
   ]
  },
  {
   "cell_type": "code",
   "execution_count": 3,
   "metadata": {},
   "outputs": [
    {
     "data": {
      "text/html": [
       "<div>\n",
       "<style scoped>\n",
       "    .dataframe tbody tr th:only-of-type {\n",
       "        vertical-align: middle;\n",
       "    }\n",
       "\n",
       "    .dataframe tbody tr th {\n",
       "        vertical-align: top;\n",
       "    }\n",
       "\n",
       "    .dataframe thead th {\n",
       "        text-align: right;\n",
       "    }\n",
       "</style>\n",
       "<table border=\"1\" class=\"dataframe\">\n",
       "  <thead>\n",
       "    <tr style=\"text-align: right;\">\n",
       "      <th></th>\n",
       "      <th>日期</th>\n",
       "      <th>時段</th>\n",
       "      <th>進站</th>\n",
       "      <th>出站</th>\n",
       "      <th>人次</th>\n",
       "    </tr>\n",
       "  </thead>\n",
       "  <tbody>\n",
       "    <tr>\n",
       "      <th>9218811</th>\n",
       "      <td>2022-01-01</td>\n",
       "      <td>2</td>\n",
       "      <td>松山機場</td>\n",
       "      <td>松山機場</td>\n",
       "      <td>0</td>\n",
       "    </tr>\n",
       "    <tr>\n",
       "      <th>9218812</th>\n",
       "      <td>2022-01-01</td>\n",
       "      <td>2</td>\n",
       "      <td>松山機場</td>\n",
       "      <td>中山國中</td>\n",
       "      <td>0</td>\n",
       "    </tr>\n",
       "    <tr>\n",
       "      <th>9218813</th>\n",
       "      <td>2022-01-01</td>\n",
       "      <td>2</td>\n",
       "      <td>松山機場</td>\n",
       "      <td>南京復興</td>\n",
       "      <td>0</td>\n",
       "    </tr>\n",
       "    <tr>\n",
       "      <th>9218814</th>\n",
       "      <td>2022-01-01</td>\n",
       "      <td>2</td>\n",
       "      <td>松山機場</td>\n",
       "      <td>忠孝復興</td>\n",
       "      <td>0</td>\n",
       "    </tr>\n",
       "    <tr>\n",
       "      <th>9218815</th>\n",
       "      <td>2022-01-01</td>\n",
       "      <td>2</td>\n",
       "      <td>松山機場</td>\n",
       "      <td>大安</td>\n",
       "      <td>0</td>\n",
       "    </tr>\n",
       "    <tr>\n",
       "      <th>...</th>\n",
       "      <td>...</td>\n",
       "      <td>...</td>\n",
       "      <td>...</td>\n",
       "      <td>...</td>\n",
       "      <td>...</td>\n",
       "    </tr>\n",
       "    <tr>\n",
       "      <th>9232967</th>\n",
       "      <td>2022-01-01</td>\n",
       "      <td>2</td>\n",
       "      <td>新北產業園區</td>\n",
       "      <td>板新</td>\n",
       "      <td>5</td>\n",
       "    </tr>\n",
       "    <tr>\n",
       "      <th>9232968</th>\n",
       "      <td>2022-01-01</td>\n",
       "      <td>2</td>\n",
       "      <td>新北產業園區</td>\n",
       "      <td>Y板橋</td>\n",
       "      <td>16</td>\n",
       "    </tr>\n",
       "    <tr>\n",
       "      <th>9232969</th>\n",
       "      <td>2022-01-01</td>\n",
       "      <td>2</td>\n",
       "      <td>新北產業園區</td>\n",
       "      <td>新埔民生</td>\n",
       "      <td>14</td>\n",
       "    </tr>\n",
       "    <tr>\n",
       "      <th>9232970</th>\n",
       "      <td>2022-01-01</td>\n",
       "      <td>2</td>\n",
       "      <td>新北產業園區</td>\n",
       "      <td>幸福</td>\n",
       "      <td>18</td>\n",
       "    </tr>\n",
       "    <tr>\n",
       "      <th>9232971</th>\n",
       "      <td>2022-01-01</td>\n",
       "      <td>2</td>\n",
       "      <td>新北產業園區</td>\n",
       "      <td>新北產業園區</td>\n",
       "      <td>5</td>\n",
       "    </tr>\n",
       "  </tbody>\n",
       "</table>\n",
       "<p>14161 rows × 5 columns</p>\n",
       "</div>"
      ],
      "text/plain": [
       "                 日期  時段      進站      出站  人次\n",
       "9218811  2022-01-01   2    松山機場    松山機場   0\n",
       "9218812  2022-01-01   2    松山機場    中山國中   0\n",
       "9218813  2022-01-01   2    松山機場    南京復興   0\n",
       "9218814  2022-01-01   2    松山機場    忠孝復興   0\n",
       "9218815  2022-01-01   2    松山機場      大安   0\n",
       "...             ...  ..     ...     ...  ..\n",
       "9232967  2022-01-01   2  新北產業園區      板新   5\n",
       "9232968  2022-01-01   2  新北產業園區     Y板橋  16\n",
       "9232969  2022-01-01   2  新北產業園區    新埔民生  14\n",
       "9232970  2022-01-01   2  新北產業園區      幸福  18\n",
       "9232971  2022-01-01   2  新北產業園區  新北產業園區   5\n",
       "\n",
       "[14161 rows x 5 columns]"
      ]
     },
     "execution_count": 3,
     "metadata": {},
     "output_type": "execute_result"
    }
   ],
   "source": [
    "MRT_2021[MRT_2021['時段'] == 2]"
   ]
  },
  {
   "cell_type": "code",
   "execution_count": 4,
   "metadata": {},
   "outputs": [
    {
     "data": {
      "application/vnd.plotly.v1+json": {
       "config": {
        "plotlyServerURL": "https://plot.ly"
       },
       "data": [
        {
         "alignmentgroup": "True",
         "hovertemplate": "x=%{x}<br>y=%{y}<extra></extra>",
         "legendgroup": "",
         "marker": {
          "color": "#636efa",
          "pattern": {
           "shape": ""
          }
         },
         "name": "",
         "offsetgroup": "",
         "orientation": "v",
         "showlegend": false,
         "textposition": "auto",
         "type": "bar",
         "x": [
          0,
          1,
          2,
          3,
          4,
          5,
          6,
          7,
          8,
          9,
          10,
          11,
          12,
          13,
          14,
          15,
          16,
          17,
          18,
          19,
          20,
          21,
          22,
          23
         ],
         "xaxis": "x",
         "y": [
          438991,
          438991,
          14161,
          14161,
          14161,
          453152,
          438991,
          438991,
          438991,
          438991,
          438991,
          438991,
          438991,
          438991,
          438991,
          438991,
          438991,
          438991,
          438991,
          438991,
          438991,
          438991,
          438991,
          438991
         ],
         "yaxis": "y"
        }
       ],
       "layout": {
        "barmode": "relative",
        "legend": {
         "tracegroupgap": 0
        },
        "margin": {
         "t": 60
        },
        "template": {
         "data": {
          "bar": [
           {
            "error_x": {
             "color": "#2a3f5f"
            },
            "error_y": {
             "color": "#2a3f5f"
            },
            "marker": {
             "line": {
              "color": "#E5ECF6",
              "width": 0.5
             },
             "pattern": {
              "fillmode": "overlay",
              "size": 10,
              "solidity": 0.2
             }
            },
            "type": "bar"
           }
          ],
          "barpolar": [
           {
            "marker": {
             "line": {
              "color": "#E5ECF6",
              "width": 0.5
             },
             "pattern": {
              "fillmode": "overlay",
              "size": 10,
              "solidity": 0.2
             }
            },
            "type": "barpolar"
           }
          ],
          "carpet": [
           {
            "aaxis": {
             "endlinecolor": "#2a3f5f",
             "gridcolor": "white",
             "linecolor": "white",
             "minorgridcolor": "white",
             "startlinecolor": "#2a3f5f"
            },
            "baxis": {
             "endlinecolor": "#2a3f5f",
             "gridcolor": "white",
             "linecolor": "white",
             "minorgridcolor": "white",
             "startlinecolor": "#2a3f5f"
            },
            "type": "carpet"
           }
          ],
          "choropleth": [
           {
            "colorbar": {
             "outlinewidth": 0,
             "ticks": ""
            },
            "type": "choropleth"
           }
          ],
          "contour": [
           {
            "colorbar": {
             "outlinewidth": 0,
             "ticks": ""
            },
            "colorscale": [
             [
              0,
              "#0d0887"
             ],
             [
              0.1111111111111111,
              "#46039f"
             ],
             [
              0.2222222222222222,
              "#7201a8"
             ],
             [
              0.3333333333333333,
              "#9c179e"
             ],
             [
              0.4444444444444444,
              "#bd3786"
             ],
             [
              0.5555555555555556,
              "#d8576b"
             ],
             [
              0.6666666666666666,
              "#ed7953"
             ],
             [
              0.7777777777777778,
              "#fb9f3a"
             ],
             [
              0.8888888888888888,
              "#fdca26"
             ],
             [
              1,
              "#f0f921"
             ]
            ],
            "type": "contour"
           }
          ],
          "contourcarpet": [
           {
            "colorbar": {
             "outlinewidth": 0,
             "ticks": ""
            },
            "type": "contourcarpet"
           }
          ],
          "heatmap": [
           {
            "colorbar": {
             "outlinewidth": 0,
             "ticks": ""
            },
            "colorscale": [
             [
              0,
              "#0d0887"
             ],
             [
              0.1111111111111111,
              "#46039f"
             ],
             [
              0.2222222222222222,
              "#7201a8"
             ],
             [
              0.3333333333333333,
              "#9c179e"
             ],
             [
              0.4444444444444444,
              "#bd3786"
             ],
             [
              0.5555555555555556,
              "#d8576b"
             ],
             [
              0.6666666666666666,
              "#ed7953"
             ],
             [
              0.7777777777777778,
              "#fb9f3a"
             ],
             [
              0.8888888888888888,
              "#fdca26"
             ],
             [
              1,
              "#f0f921"
             ]
            ],
            "type": "heatmap"
           }
          ],
          "heatmapgl": [
           {
            "colorbar": {
             "outlinewidth": 0,
             "ticks": ""
            },
            "colorscale": [
             [
              0,
              "#0d0887"
             ],
             [
              0.1111111111111111,
              "#46039f"
             ],
             [
              0.2222222222222222,
              "#7201a8"
             ],
             [
              0.3333333333333333,
              "#9c179e"
             ],
             [
              0.4444444444444444,
              "#bd3786"
             ],
             [
              0.5555555555555556,
              "#d8576b"
             ],
             [
              0.6666666666666666,
              "#ed7953"
             ],
             [
              0.7777777777777778,
              "#fb9f3a"
             ],
             [
              0.8888888888888888,
              "#fdca26"
             ],
             [
              1,
              "#f0f921"
             ]
            ],
            "type": "heatmapgl"
           }
          ],
          "histogram": [
           {
            "marker": {
             "pattern": {
              "fillmode": "overlay",
              "size": 10,
              "solidity": 0.2
             }
            },
            "type": "histogram"
           }
          ],
          "histogram2d": [
           {
            "colorbar": {
             "outlinewidth": 0,
             "ticks": ""
            },
            "colorscale": [
             [
              0,
              "#0d0887"
             ],
             [
              0.1111111111111111,
              "#46039f"
             ],
             [
              0.2222222222222222,
              "#7201a8"
             ],
             [
              0.3333333333333333,
              "#9c179e"
             ],
             [
              0.4444444444444444,
              "#bd3786"
             ],
             [
              0.5555555555555556,
              "#d8576b"
             ],
             [
              0.6666666666666666,
              "#ed7953"
             ],
             [
              0.7777777777777778,
              "#fb9f3a"
             ],
             [
              0.8888888888888888,
              "#fdca26"
             ],
             [
              1,
              "#f0f921"
             ]
            ],
            "type": "histogram2d"
           }
          ],
          "histogram2dcontour": [
           {
            "colorbar": {
             "outlinewidth": 0,
             "ticks": ""
            },
            "colorscale": [
             [
              0,
              "#0d0887"
             ],
             [
              0.1111111111111111,
              "#46039f"
             ],
             [
              0.2222222222222222,
              "#7201a8"
             ],
             [
              0.3333333333333333,
              "#9c179e"
             ],
             [
              0.4444444444444444,
              "#bd3786"
             ],
             [
              0.5555555555555556,
              "#d8576b"
             ],
             [
              0.6666666666666666,
              "#ed7953"
             ],
             [
              0.7777777777777778,
              "#fb9f3a"
             ],
             [
              0.8888888888888888,
              "#fdca26"
             ],
             [
              1,
              "#f0f921"
             ]
            ],
            "type": "histogram2dcontour"
           }
          ],
          "mesh3d": [
           {
            "colorbar": {
             "outlinewidth": 0,
             "ticks": ""
            },
            "type": "mesh3d"
           }
          ],
          "parcoords": [
           {
            "line": {
             "colorbar": {
              "outlinewidth": 0,
              "ticks": ""
             }
            },
            "type": "parcoords"
           }
          ],
          "pie": [
           {
            "automargin": true,
            "type": "pie"
           }
          ],
          "scatter": [
           {
            "fillpattern": {
             "fillmode": "overlay",
             "size": 10,
             "solidity": 0.2
            },
            "type": "scatter"
           }
          ],
          "scatter3d": [
           {
            "line": {
             "colorbar": {
              "outlinewidth": 0,
              "ticks": ""
             }
            },
            "marker": {
             "colorbar": {
              "outlinewidth": 0,
              "ticks": ""
             }
            },
            "type": "scatter3d"
           }
          ],
          "scattercarpet": [
           {
            "marker": {
             "colorbar": {
              "outlinewidth": 0,
              "ticks": ""
             }
            },
            "type": "scattercarpet"
           }
          ],
          "scattergeo": [
           {
            "marker": {
             "colorbar": {
              "outlinewidth": 0,
              "ticks": ""
             }
            },
            "type": "scattergeo"
           }
          ],
          "scattergl": [
           {
            "marker": {
             "colorbar": {
              "outlinewidth": 0,
              "ticks": ""
             }
            },
            "type": "scattergl"
           }
          ],
          "scattermapbox": [
           {
            "marker": {
             "colorbar": {
              "outlinewidth": 0,
              "ticks": ""
             }
            },
            "type": "scattermapbox"
           }
          ],
          "scatterpolar": [
           {
            "marker": {
             "colorbar": {
              "outlinewidth": 0,
              "ticks": ""
             }
            },
            "type": "scatterpolar"
           }
          ],
          "scatterpolargl": [
           {
            "marker": {
             "colorbar": {
              "outlinewidth": 0,
              "ticks": ""
             }
            },
            "type": "scatterpolargl"
           }
          ],
          "scatterternary": [
           {
            "marker": {
             "colorbar": {
              "outlinewidth": 0,
              "ticks": ""
             }
            },
            "type": "scatterternary"
           }
          ],
          "surface": [
           {
            "colorbar": {
             "outlinewidth": 0,
             "ticks": ""
            },
            "colorscale": [
             [
              0,
              "#0d0887"
             ],
             [
              0.1111111111111111,
              "#46039f"
             ],
             [
              0.2222222222222222,
              "#7201a8"
             ],
             [
              0.3333333333333333,
              "#9c179e"
             ],
             [
              0.4444444444444444,
              "#bd3786"
             ],
             [
              0.5555555555555556,
              "#d8576b"
             ],
             [
              0.6666666666666666,
              "#ed7953"
             ],
             [
              0.7777777777777778,
              "#fb9f3a"
             ],
             [
              0.8888888888888888,
              "#fdca26"
             ],
             [
              1,
              "#f0f921"
             ]
            ],
            "type": "surface"
           }
          ],
          "table": [
           {
            "cells": {
             "fill": {
              "color": "#EBF0F8"
             },
             "line": {
              "color": "white"
             }
            },
            "header": {
             "fill": {
              "color": "#C8D4E3"
             },
             "line": {
              "color": "white"
             }
            },
            "type": "table"
           }
          ]
         },
         "layout": {
          "annotationdefaults": {
           "arrowcolor": "#2a3f5f",
           "arrowhead": 0,
           "arrowwidth": 1
          },
          "autotypenumbers": "strict",
          "coloraxis": {
           "colorbar": {
            "outlinewidth": 0,
            "ticks": ""
           }
          },
          "colorscale": {
           "diverging": [
            [
             0,
             "#8e0152"
            ],
            [
             0.1,
             "#c51b7d"
            ],
            [
             0.2,
             "#de77ae"
            ],
            [
             0.3,
             "#f1b6da"
            ],
            [
             0.4,
             "#fde0ef"
            ],
            [
             0.5,
             "#f7f7f7"
            ],
            [
             0.6,
             "#e6f5d0"
            ],
            [
             0.7,
             "#b8e186"
            ],
            [
             0.8,
             "#7fbc41"
            ],
            [
             0.9,
             "#4d9221"
            ],
            [
             1,
             "#276419"
            ]
           ],
           "sequential": [
            [
             0,
             "#0d0887"
            ],
            [
             0.1111111111111111,
             "#46039f"
            ],
            [
             0.2222222222222222,
             "#7201a8"
            ],
            [
             0.3333333333333333,
             "#9c179e"
            ],
            [
             0.4444444444444444,
             "#bd3786"
            ],
            [
             0.5555555555555556,
             "#d8576b"
            ],
            [
             0.6666666666666666,
             "#ed7953"
            ],
            [
             0.7777777777777778,
             "#fb9f3a"
            ],
            [
             0.8888888888888888,
             "#fdca26"
            ],
            [
             1,
             "#f0f921"
            ]
           ],
           "sequentialminus": [
            [
             0,
             "#0d0887"
            ],
            [
             0.1111111111111111,
             "#46039f"
            ],
            [
             0.2222222222222222,
             "#7201a8"
            ],
            [
             0.3333333333333333,
             "#9c179e"
            ],
            [
             0.4444444444444444,
             "#bd3786"
            ],
            [
             0.5555555555555556,
             "#d8576b"
            ],
            [
             0.6666666666666666,
             "#ed7953"
            ],
            [
             0.7777777777777778,
             "#fb9f3a"
            ],
            [
             0.8888888888888888,
             "#fdca26"
            ],
            [
             1,
             "#f0f921"
            ]
           ]
          },
          "colorway": [
           "#636efa",
           "#EF553B",
           "#00cc96",
           "#ab63fa",
           "#FFA15A",
           "#19d3f3",
           "#FF6692",
           "#B6E880",
           "#FF97FF",
           "#FECB52"
          ],
          "font": {
           "color": "#2a3f5f"
          },
          "geo": {
           "bgcolor": "white",
           "lakecolor": "white",
           "landcolor": "#E5ECF6",
           "showlakes": true,
           "showland": true,
           "subunitcolor": "white"
          },
          "hoverlabel": {
           "align": "left"
          },
          "hovermode": "closest",
          "mapbox": {
           "style": "light"
          },
          "paper_bgcolor": "white",
          "plot_bgcolor": "#E5ECF6",
          "polar": {
           "angularaxis": {
            "gridcolor": "white",
            "linecolor": "white",
            "ticks": ""
           },
           "bgcolor": "#E5ECF6",
           "radialaxis": {
            "gridcolor": "white",
            "linecolor": "white",
            "ticks": ""
           }
          },
          "scene": {
           "xaxis": {
            "backgroundcolor": "#E5ECF6",
            "gridcolor": "white",
            "gridwidth": 2,
            "linecolor": "white",
            "showbackground": true,
            "ticks": "",
            "zerolinecolor": "white"
           },
           "yaxis": {
            "backgroundcolor": "#E5ECF6",
            "gridcolor": "white",
            "gridwidth": 2,
            "linecolor": "white",
            "showbackground": true,
            "ticks": "",
            "zerolinecolor": "white"
           },
           "zaxis": {
            "backgroundcolor": "#E5ECF6",
            "gridcolor": "white",
            "gridwidth": 2,
            "linecolor": "white",
            "showbackground": true,
            "ticks": "",
            "zerolinecolor": "white"
           }
          },
          "shapedefaults": {
           "line": {
            "color": "#2a3f5f"
           }
          },
          "ternary": {
           "aaxis": {
            "gridcolor": "white",
            "linecolor": "white",
            "ticks": ""
           },
           "baxis": {
            "gridcolor": "white",
            "linecolor": "white",
            "ticks": ""
           },
           "bgcolor": "#E5ECF6",
           "caxis": {
            "gridcolor": "white",
            "linecolor": "white",
            "ticks": ""
           }
          },
          "title": {
           "x": 0.05
          },
          "xaxis": {
           "automargin": true,
           "gridcolor": "white",
           "linecolor": "white",
           "ticks": "",
           "title": {
            "standoff": 15
           },
           "zerolinecolor": "white",
           "zerolinewidth": 2
          },
          "yaxis": {
           "automargin": true,
           "gridcolor": "white",
           "linecolor": "white",
           "ticks": "",
           "title": {
            "standoff": 15
           },
           "zerolinecolor": "white",
           "zerolinewidth": 2
          }
         }
        },
        "xaxis": {
         "anchor": "y",
         "domain": [
          0,
          1
         ],
         "title": {
          "text": "x"
         }
        },
        "yaxis": {
         "anchor": "x",
         "domain": [
          0,
          1
         ],
         "title": {
          "text": "y"
         },
         "type": "log"
        }
       }
      }
     },
     "metadata": {},
     "output_type": "display_data"
    }
   ],
   "source": [
    "counts, values = np.unique(MRT_2021['時段'], return_counts=True)\n",
    "\n",
    "fig = px.bar(x = counts, y = values, log_y=True)\n",
    "fig"
   ]
  },
  {
   "cell_type": "markdown",
   "metadata": {},
   "source": [
    "首先，限制日期在 12/31、1/1 以及限制時段在 0 - 5"
   ]
  },
  {
   "cell_type": "code",
   "execution_count": 14,
   "metadata": {},
   "outputs": [],
   "source": [
    "def filter_new_year(df):\n",
    "    df['year'] = pd.to_datetime(df['日期']).dt.year\n",
    "    df['month_day'] = pd.to_datetime(df['日期']).dt.strftime('%m-%d')\n",
    "\n",
    "    condition_1 = (df['日期'].str.contains('12-31')) & (df['時段'].isin([22, 23, 0, 1]))\n",
    "    condition_2 = (df['日期'].str.contains('01-01')) & (df['時段'].isin([2, 3, 4, 5]))\n",
    "\n",
    "    mask = condition_1 | condition_2\n",
    "    \n",
    "    df_ = df[mask].copy()\n",
    "\n",
    "    # Adjust 'year' based on the specified conditions\n",
    "    df_.loc[df_['時段'].isin([0, 1]), 'year'] += 1\n",
    "\n",
    "    return df_.drop(['month_day'], axis=1)\n"
   ]
  },
  {
   "cell_type": "code",
   "execution_count": 47,
   "metadata": {},
   "outputs": [],
   "source": [
    "# def filter_new_year(df):\n",
    "#     df['year'] = pd.to_datetime(df['日期']).dt.year\n",
    "#     return df[df['日期'].str.contains('01-01', regex=False)]\n",
    "\n",
    "# # MRT_2021.query(\"`日期` == '2022-01-01'\")"
   ]
  },
  {
   "cell_type": "markdown",
   "metadata": {},
   "source": [
    "由於板橋捷運站有環狀線及板南線兩種，在此將兩者名稱皆改成板橋"
   ]
  },
  {
   "cell_type": "code",
   "execution_count": 15,
   "metadata": {},
   "outputs": [],
   "source": [
    "def remove_alphabets_from_stations(df):\n",
    "    import re\n",
    "    pattern = re.compile('[a-zA-Z]')\n",
    "    df_ = df.copy()\n",
    "    df_['進站'] = df['進站'].apply(lambda x: re.sub(pattern, '', x))\n",
    "    return df_\n"
   ]
  },
  {
   "cell_type": "markdown",
   "metadata": {},
   "source": [
    "我們想要得到不同年份、日期、時段以及捷運站點的進佔人次總和"
   ]
  },
  {
   "cell_type": "code",
   "execution_count": 16,
   "metadata": {},
   "outputs": [],
   "source": [
    "def sum_enter_by_station_time(df):\n",
    "    return df.groupby(['year', '日期', '時段', '進站'])['人次'].sum().reset_index()\n"
   ]
  },
  {
   "cell_type": "code",
   "execution_count": 17,
   "metadata": {},
   "outputs": [],
   "source": [
    "def concatenate_all_data(files):\n",
    "    final_result = pd.DataFrame()\n",
    "    for file in files:\n",
    "        df = pd.read_csv(file)\n",
    "        processed_df = (df\n",
    "                        .pipe(filter_new_year)\n",
    "                        .pipe(remove_alphabets_from_stations)\n",
    "                        .pipe(sum_enter_by_station_time)\n",
    "                       )\n",
    "        final_result = pd.concat([final_result, processed_df], ignore_index=True)\n",
    "    return final_result"
   ]
  },
  {
   "cell_type": "code",
   "execution_count": 29,
   "metadata": {},
   "outputs": [],
   "source": [
    "directory_path = './DATA/MRT_raw_data/'\n",
    "\n",
    "# Specify the pattern for CSV files in the directory\n",
    "file_pattern = '*12.csv'\n",
    "\n",
    "# Use Path to get a list of file paths\n",
    "csv_files = [str(file) for file in Path(directory_path).glob(file_pattern)]\n",
    "\n",
    "# Call the function to process and concatenate data from all files\n",
    "MRT_newyear_data = concatenate_all_data(csv_files)"
   ]
  },
  {
   "cell_type": "code",
   "execution_count": 30,
   "metadata": {},
   "outputs": [],
   "source": [
    "MRT_newyear_data.to_csv('./DATA/MRT_data_contain_22-05.csv', index = False)"
   ]
  },
  {
   "cell_type": "code",
   "execution_count": 31,
   "metadata": {},
   "outputs": [
    {
     "data": {
      "text/html": [
       "<div>\n",
       "<style scoped>\n",
       "    .dataframe tbody tr th:only-of-type {\n",
       "        vertical-align: middle;\n",
       "    }\n",
       "\n",
       "    .dataframe tbody tr th {\n",
       "        vertical-align: top;\n",
       "    }\n",
       "\n",
       "    .dataframe thead th {\n",
       "        text-align: right;\n",
       "    }\n",
       "</style>\n",
       "<table border=\"1\" class=\"dataframe\">\n",
       "  <thead>\n",
       "    <tr style=\"text-align: right;\">\n",
       "      <th></th>\n",
       "      <th>exit</th>\n",
       "      <th>經度</th>\n",
       "      <th>緯度</th>\n",
       "    </tr>\n",
       "  </thead>\n",
       "  <tbody>\n",
       "    <tr>\n",
       "      <th>0</th>\n",
       "      <td>七張</td>\n",
       "      <td>121.543068</td>\n",
       "      <td>24.975025</td>\n",
       "    </tr>\n",
       "    <tr>\n",
       "      <th>1</th>\n",
       "      <td>三和國中</td>\n",
       "      <td>121.486398</td>\n",
       "      <td>25.076586</td>\n",
       "    </tr>\n",
       "    <tr>\n",
       "      <th>2</th>\n",
       "      <td>三民高中</td>\n",
       "      <td>121.472714</td>\n",
       "      <td>25.085692</td>\n",
       "    </tr>\n",
       "    <tr>\n",
       "      <th>3</th>\n",
       "      <td>三重</td>\n",
       "      <td>121.483303</td>\n",
       "      <td>25.055352</td>\n",
       "    </tr>\n",
       "    <tr>\n",
       "      <th>4</th>\n",
       "      <td>三重國小</td>\n",
       "      <td>121.496702</td>\n",
       "      <td>25.070646</td>\n",
       "    </tr>\n",
       "    <tr>\n",
       "      <th>...</th>\n",
       "      <td>...</td>\n",
       "      <td>...</td>\n",
       "      <td>...</td>\n",
       "    </tr>\n",
       "    <tr>\n",
       "      <th>113</th>\n",
       "      <td>頂埔</td>\n",
       "      <td>121.418336</td>\n",
       "      <td>24.959327</td>\n",
       "    </tr>\n",
       "    <tr>\n",
       "      <th>114</th>\n",
       "      <td>頂溪</td>\n",
       "      <td>121.515414</td>\n",
       "      <td>25.012895</td>\n",
       "    </tr>\n",
       "    <tr>\n",
       "      <th>115</th>\n",
       "      <td>頭前庄</td>\n",
       "      <td>121.460303</td>\n",
       "      <td>25.039844</td>\n",
       "    </tr>\n",
       "    <tr>\n",
       "      <th>116</th>\n",
       "      <td>麟光</td>\n",
       "      <td>121.558606</td>\n",
       "      <td>25.018554</td>\n",
       "    </tr>\n",
       "    <tr>\n",
       "      <th>117</th>\n",
       "      <td>龍山寺</td>\n",
       "      <td>121.499530</td>\n",
       "      <td>25.035484</td>\n",
       "    </tr>\n",
       "  </tbody>\n",
       "</table>\n",
       "<p>118 rows × 3 columns</p>\n",
       "</div>"
      ],
      "text/plain": [
       "     exit          經度         緯度\n",
       "0      七張  121.543068  24.975025\n",
       "1    三和國中  121.486398  25.076586\n",
       "2    三民高中  121.472714  25.085692\n",
       "3      三重  121.483303  25.055352\n",
       "4    三重國小  121.496702  25.070646\n",
       "..    ...         ...        ...\n",
       "113    頂埔  121.418336  24.959327\n",
       "114    頂溪  121.515414  25.012895\n",
       "115   頭前庄  121.460303  25.039844\n",
       "116    麟光  121.558606  25.018554\n",
       "117   龍山寺  121.499530  25.035484\n",
       "\n",
       "[118 rows x 3 columns]"
      ]
     },
     "execution_count": 31,
     "metadata": {},
     "output_type": "execute_result"
    }
   ],
   "source": [
    "MRT_coordinate = pd.read_csv('./DATA/臺北捷運車站出入口座標.csv', encoding = 'big5')\n",
    "\n",
    "def get_unique_station_geodata(df):\n",
    "    df['exit'] = df['出入口名稱'].str.split('站出口').str[0]\n",
    "    df.loc[df['exit'].str.contains('台北車', regex=False), 'exit' ] = '台北車站'\n",
    "    return df.groupby('exit').first().reset_index()[['exit', '經度', '緯度']]\n",
    "    \n",
    "\n",
    "MRT_first_coord = get_unique_station_geodata(MRT_coordinate)\n",
    "MRT_first_coord"
   ]
  },
  {
   "cell_type": "code",
   "execution_count": null,
   "metadata": {},
   "outputs": [],
   "source": [
    "MRT_sum_with_coord = pd.merge(MRT_newyear_data, MRT_first_coord, left_on= '進站', right_on='exit', how = 'left').sort_values('時段', ascending=True)\n",
    "\n",
    "MRT_sum_with_coord.to_csv('./DATA/MRT_sum_with_coord_contain_22-05.csv', index = False)"
   ]
  }
 ],
 "metadata": {
  "kernelspec": {
   "display_name": "autoclick",
   "language": "python",
   "name": "python3"
  },
  "language_info": {
   "codemirror_mode": {
    "name": "ipython",
    "version": 3
   },
   "file_extension": ".py",
   "mimetype": "text/x-python",
   "name": "python",
   "nbconvert_exporter": "python",
   "pygments_lexer": "ipython3",
   "version": "3.11.4"
  }
 },
 "nbformat": 4,
 "nbformat_minor": 2
}
