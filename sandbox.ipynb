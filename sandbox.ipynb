{
 "cells": [
  {
   "cell_type": "code",
   "execution_count": 1,
   "metadata": {},
   "outputs": [],
   "source": [
    "import pandas as pd\n",
    "import numpy as np\n",
    "import plotly.express as px\n",
    "import re"
   ]
  },
  {
   "cell_type": "code",
   "execution_count": 2,
   "metadata": {},
   "outputs": [],
   "source": [
    "MRT_2021 = pd.read_csv('./DATA/臺北捷運每日分時各站OD流量統計資料_202112.csv')"
   ]
  },
  {
   "cell_type": "markdown",
   "metadata": {},
   "source": [
    "為什麼 2021"
   ]
  },
  {
   "cell_type": "code",
   "execution_count": 3,
   "metadata": {},
   "outputs": [
    {
     "data": {
      "text/html": [
       "<div>\n",
       "<style scoped>\n",
       "    .dataframe tbody tr th:only-of-type {\n",
       "        vertical-align: middle;\n",
       "    }\n",
       "\n",
       "    .dataframe tbody tr th {\n",
       "        vertical-align: top;\n",
       "    }\n",
       "\n",
       "    .dataframe thead th {\n",
       "        text-align: right;\n",
       "    }\n",
       "</style>\n",
       "<table border=\"1\" class=\"dataframe\">\n",
       "  <thead>\n",
       "    <tr style=\"text-align: right;\">\n",
       "      <th></th>\n",
       "      <th>日期</th>\n",
       "      <th>時段</th>\n",
       "      <th>進站</th>\n",
       "      <th>出站</th>\n",
       "      <th>人次</th>\n",
       "    </tr>\n",
       "  </thead>\n",
       "  <tbody>\n",
       "    <tr>\n",
       "      <th>9218811</th>\n",
       "      <td>2022-01-01</td>\n",
       "      <td>2</td>\n",
       "      <td>松山機場</td>\n",
       "      <td>松山機場</td>\n",
       "      <td>0</td>\n",
       "    </tr>\n",
       "    <tr>\n",
       "      <th>9218812</th>\n",
       "      <td>2022-01-01</td>\n",
       "      <td>2</td>\n",
       "      <td>松山機場</td>\n",
       "      <td>中山國中</td>\n",
       "      <td>0</td>\n",
       "    </tr>\n",
       "    <tr>\n",
       "      <th>9218813</th>\n",
       "      <td>2022-01-01</td>\n",
       "      <td>2</td>\n",
       "      <td>松山機場</td>\n",
       "      <td>南京復興</td>\n",
       "      <td>0</td>\n",
       "    </tr>\n",
       "    <tr>\n",
       "      <th>9218814</th>\n",
       "      <td>2022-01-01</td>\n",
       "      <td>2</td>\n",
       "      <td>松山機場</td>\n",
       "      <td>忠孝復興</td>\n",
       "      <td>0</td>\n",
       "    </tr>\n",
       "    <tr>\n",
       "      <th>9218815</th>\n",
       "      <td>2022-01-01</td>\n",
       "      <td>2</td>\n",
       "      <td>松山機場</td>\n",
       "      <td>大安</td>\n",
       "      <td>0</td>\n",
       "    </tr>\n",
       "    <tr>\n",
       "      <th>...</th>\n",
       "      <td>...</td>\n",
       "      <td>...</td>\n",
       "      <td>...</td>\n",
       "      <td>...</td>\n",
       "      <td>...</td>\n",
       "    </tr>\n",
       "    <tr>\n",
       "      <th>9232967</th>\n",
       "      <td>2022-01-01</td>\n",
       "      <td>2</td>\n",
       "      <td>新北產業園區</td>\n",
       "      <td>板新</td>\n",
       "      <td>5</td>\n",
       "    </tr>\n",
       "    <tr>\n",
       "      <th>9232968</th>\n",
       "      <td>2022-01-01</td>\n",
       "      <td>2</td>\n",
       "      <td>新北產業園區</td>\n",
       "      <td>Y板橋</td>\n",
       "      <td>16</td>\n",
       "    </tr>\n",
       "    <tr>\n",
       "      <th>9232969</th>\n",
       "      <td>2022-01-01</td>\n",
       "      <td>2</td>\n",
       "      <td>新北產業園區</td>\n",
       "      <td>新埔民生</td>\n",
       "      <td>14</td>\n",
       "    </tr>\n",
       "    <tr>\n",
       "      <th>9232970</th>\n",
       "      <td>2022-01-01</td>\n",
       "      <td>2</td>\n",
       "      <td>新北產業園區</td>\n",
       "      <td>幸福</td>\n",
       "      <td>18</td>\n",
       "    </tr>\n",
       "    <tr>\n",
       "      <th>9232971</th>\n",
       "      <td>2022-01-01</td>\n",
       "      <td>2</td>\n",
       "      <td>新北產業園區</td>\n",
       "      <td>新北產業園區</td>\n",
       "      <td>5</td>\n",
       "    </tr>\n",
       "  </tbody>\n",
       "</table>\n",
       "<p>14161 rows × 5 columns</p>\n",
       "</div>"
      ],
      "text/plain": [
       "                 日期  時段      進站      出站  人次\n",
       "9218811  2022-01-01   2    松山機場    松山機場   0\n",
       "9218812  2022-01-01   2    松山機場    中山國中   0\n",
       "9218813  2022-01-01   2    松山機場    南京復興   0\n",
       "9218814  2022-01-01   2    松山機場    忠孝復興   0\n",
       "9218815  2022-01-01   2    松山機場      大安   0\n",
       "...             ...  ..     ...     ...  ..\n",
       "9232967  2022-01-01   2  新北產業園區      板新   5\n",
       "9232968  2022-01-01   2  新北產業園區     Y板橋  16\n",
       "9232969  2022-01-01   2  新北產業園區    新埔民生  14\n",
       "9232970  2022-01-01   2  新北產業園區      幸福  18\n",
       "9232971  2022-01-01   2  新北產業園區  新北產業園區   5\n",
       "\n",
       "[14161 rows x 5 columns]"
      ]
     },
     "execution_count": 3,
     "metadata": {},
     "output_type": "execute_result"
    }
   ],
   "source": [
    "MRT_2021[MRT_2021['時段'] == 2]"
   ]
  },
  {
   "cell_type": "code",
   "execution_count": 11,
   "metadata": {},
   "outputs": [
    {
     "data": {
      "application/vnd.plotly.v1+json": {
       "config": {
        "plotlyServerURL": "https://plot.ly"
       },
       "data": [
        {
         "alignmentgroup": "True",
         "hovertemplate": "x=%{x}<br>y=%{y}<extra></extra>",
         "legendgroup": "",
         "marker": {
          "color": "#636efa",
          "pattern": {
           "shape": ""
          }
         },
         "name": "",
         "offsetgroup": "",
         "orientation": "v",
         "showlegend": false,
         "textposition": "auto",
         "type": "bar",
         "x": [
          0,
          1,
          2,
          3,
          4,
          5,
          6,
          7,
          8,
          9,
          10,
          11,
          12,
          13,
          14,
          15,
          16,
          17,
          18,
          19,
          20,
          21,
          22,
          23
         ],
         "xaxis": "x",
         "y": [
          438991,
          438991,
          14161,
          14161,
          14161,
          453152,
          438991,
          438991,
          438991,
          438991,
          438991,
          438991,
          438991,
          438991,
          438991,
          438991,
          438991,
          438991,
          438991,
          438991,
          438991,
          438991,
          438991,
          438991
         ],
         "yaxis": "y"
        }
       ],
       "layout": {
        "barmode": "relative",
        "legend": {
         "tracegroupgap": 0
        },
        "margin": {
         "t": 60
        },
        "template": {
         "data": {
          "bar": [
           {
            "error_x": {
             "color": "#2a3f5f"
            },
            "error_y": {
             "color": "#2a3f5f"
            },
            "marker": {
             "line": {
              "color": "#E5ECF6",
              "width": 0.5
             },
             "pattern": {
              "fillmode": "overlay",
              "size": 10,
              "solidity": 0.2
             }
            },
            "type": "bar"
           }
          ],
          "barpolar": [
           {
            "marker": {
             "line": {
              "color": "#E5ECF6",
              "width": 0.5
             },
             "pattern": {
              "fillmode": "overlay",
              "size": 10,
              "solidity": 0.2
             }
            },
            "type": "barpolar"
           }
          ],
          "carpet": [
           {
            "aaxis": {
             "endlinecolor": "#2a3f5f",
             "gridcolor": "white",
             "linecolor": "white",
             "minorgridcolor": "white",
             "startlinecolor": "#2a3f5f"
            },
            "baxis": {
             "endlinecolor": "#2a3f5f",
             "gridcolor": "white",
             "linecolor": "white",
             "minorgridcolor": "white",
             "startlinecolor": "#2a3f5f"
            },
            "type": "carpet"
           }
          ],
          "choropleth": [
           {
            "colorbar": {
             "outlinewidth": 0,
             "ticks": ""
            },
            "type": "choropleth"
           }
          ],
          "contour": [
           {
            "colorbar": {
             "outlinewidth": 0,
             "ticks": ""
            },
            "colorscale": [
             [
              0,
              "#0d0887"
             ],
             [
              0.1111111111111111,
              "#46039f"
             ],
             [
              0.2222222222222222,
              "#7201a8"
             ],
             [
              0.3333333333333333,
              "#9c179e"
             ],
             [
              0.4444444444444444,
              "#bd3786"
             ],
             [
              0.5555555555555556,
              "#d8576b"
             ],
             [
              0.6666666666666666,
              "#ed7953"
             ],
             [
              0.7777777777777778,
              "#fb9f3a"
             ],
             [
              0.8888888888888888,
              "#fdca26"
             ],
             [
              1,
              "#f0f921"
             ]
            ],
            "type": "contour"
           }
          ],
          "contourcarpet": [
           {
            "colorbar": {
             "outlinewidth": 0,
             "ticks": ""
            },
            "type": "contourcarpet"
           }
          ],
          "heatmap": [
           {
            "colorbar": {
             "outlinewidth": 0,
             "ticks": ""
            },
            "colorscale": [
             [
              0,
              "#0d0887"
             ],
             [
              0.1111111111111111,
              "#46039f"
             ],
             [
              0.2222222222222222,
              "#7201a8"
             ],
             [
              0.3333333333333333,
              "#9c179e"
             ],
             [
              0.4444444444444444,
              "#bd3786"
             ],
             [
              0.5555555555555556,
              "#d8576b"
             ],
             [
              0.6666666666666666,
              "#ed7953"
             ],
             [
              0.7777777777777778,
              "#fb9f3a"
             ],
             [
              0.8888888888888888,
              "#fdca26"
             ],
             [
              1,
              "#f0f921"
             ]
            ],
            "type": "heatmap"
           }
          ],
          "heatmapgl": [
           {
            "colorbar": {
             "outlinewidth": 0,
             "ticks": ""
            },
            "colorscale": [
             [
              0,
              "#0d0887"
             ],
             [
              0.1111111111111111,
              "#46039f"
             ],
             [
              0.2222222222222222,
              "#7201a8"
             ],
             [
              0.3333333333333333,
              "#9c179e"
             ],
             [
              0.4444444444444444,
              "#bd3786"
             ],
             [
              0.5555555555555556,
              "#d8576b"
             ],
             [
              0.6666666666666666,
              "#ed7953"
             ],
             [
              0.7777777777777778,
              "#fb9f3a"
             ],
             [
              0.8888888888888888,
              "#fdca26"
             ],
             [
              1,
              "#f0f921"
             ]
            ],
            "type": "heatmapgl"
           }
          ],
          "histogram": [
           {
            "marker": {
             "pattern": {
              "fillmode": "overlay",
              "size": 10,
              "solidity": 0.2
             }
            },
            "type": "histogram"
           }
          ],
          "histogram2d": [
           {
            "colorbar": {
             "outlinewidth": 0,
             "ticks": ""
            },
            "colorscale": [
             [
              0,
              "#0d0887"
             ],
             [
              0.1111111111111111,
              "#46039f"
             ],
             [
              0.2222222222222222,
              "#7201a8"
             ],
             [
              0.3333333333333333,
              "#9c179e"
             ],
             [
              0.4444444444444444,
              "#bd3786"
             ],
             [
              0.5555555555555556,
              "#d8576b"
             ],
             [
              0.6666666666666666,
              "#ed7953"
             ],
             [
              0.7777777777777778,
              "#fb9f3a"
             ],
             [
              0.8888888888888888,
              "#fdca26"
             ],
             [
              1,
              "#f0f921"
             ]
            ],
            "type": "histogram2d"
           }
          ],
          "histogram2dcontour": [
           {
            "colorbar": {
             "outlinewidth": 0,
             "ticks": ""
            },
            "colorscale": [
             [
              0,
              "#0d0887"
             ],
             [
              0.1111111111111111,
              "#46039f"
             ],
             [
              0.2222222222222222,
              "#7201a8"
             ],
             [
              0.3333333333333333,
              "#9c179e"
             ],
             [
              0.4444444444444444,
              "#bd3786"
             ],
             [
              0.5555555555555556,
              "#d8576b"
             ],
             [
              0.6666666666666666,
              "#ed7953"
             ],
             [
              0.7777777777777778,
              "#fb9f3a"
             ],
             [
              0.8888888888888888,
              "#fdca26"
             ],
             [
              1,
              "#f0f921"
             ]
            ],
            "type": "histogram2dcontour"
           }
          ],
          "mesh3d": [
           {
            "colorbar": {
             "outlinewidth": 0,
             "ticks": ""
            },
            "type": "mesh3d"
           }
          ],
          "parcoords": [
           {
            "line": {
             "colorbar": {
              "outlinewidth": 0,
              "ticks": ""
             }
            },
            "type": "parcoords"
           }
          ],
          "pie": [
           {
            "automargin": true,
            "type": "pie"
           }
          ],
          "scatter": [
           {
            "fillpattern": {
             "fillmode": "overlay",
             "size": 10,
             "solidity": 0.2
            },
            "type": "scatter"
           }
          ],
          "scatter3d": [
           {
            "line": {
             "colorbar": {
              "outlinewidth": 0,
              "ticks": ""
             }
            },
            "marker": {
             "colorbar": {
              "outlinewidth": 0,
              "ticks": ""
             }
            },
            "type": "scatter3d"
           }
          ],
          "scattercarpet": [
           {
            "marker": {
             "colorbar": {
              "outlinewidth": 0,
              "ticks": ""
             }
            },
            "type": "scattercarpet"
           }
          ],
          "scattergeo": [
           {
            "marker": {
             "colorbar": {
              "outlinewidth": 0,
              "ticks": ""
             }
            },
            "type": "scattergeo"
           }
          ],
          "scattergl": [
           {
            "marker": {
             "colorbar": {
              "outlinewidth": 0,
              "ticks": ""
             }
            },
            "type": "scattergl"
           }
          ],
          "scattermapbox": [
           {
            "marker": {
             "colorbar": {
              "outlinewidth": 0,
              "ticks": ""
             }
            },
            "type": "scattermapbox"
           }
          ],
          "scatterpolar": [
           {
            "marker": {
             "colorbar": {
              "outlinewidth": 0,
              "ticks": ""
             }
            },
            "type": "scatterpolar"
           }
          ],
          "scatterpolargl": [
           {
            "marker": {
             "colorbar": {
              "outlinewidth": 0,
              "ticks": ""
             }
            },
            "type": "scatterpolargl"
           }
          ],
          "scatterternary": [
           {
            "marker": {
             "colorbar": {
              "outlinewidth": 0,
              "ticks": ""
             }
            },
            "type": "scatterternary"
           }
          ],
          "surface": [
           {
            "colorbar": {
             "outlinewidth": 0,
             "ticks": ""
            },
            "colorscale": [
             [
              0,
              "#0d0887"
             ],
             [
              0.1111111111111111,
              "#46039f"
             ],
             [
              0.2222222222222222,
              "#7201a8"
             ],
             [
              0.3333333333333333,
              "#9c179e"
             ],
             [
              0.4444444444444444,
              "#bd3786"
             ],
             [
              0.5555555555555556,
              "#d8576b"
             ],
             [
              0.6666666666666666,
              "#ed7953"
             ],
             [
              0.7777777777777778,
              "#fb9f3a"
             ],
             [
              0.8888888888888888,
              "#fdca26"
             ],
             [
              1,
              "#f0f921"
             ]
            ],
            "type": "surface"
           }
          ],
          "table": [
           {
            "cells": {
             "fill": {
              "color": "#EBF0F8"
             },
             "line": {
              "color": "white"
             }
            },
            "header": {
             "fill": {
              "color": "#C8D4E3"
             },
             "line": {
              "color": "white"
             }
            },
            "type": "table"
           }
          ]
         },
         "layout": {
          "annotationdefaults": {
           "arrowcolor": "#2a3f5f",
           "arrowhead": 0,
           "arrowwidth": 1
          },
          "autotypenumbers": "strict",
          "coloraxis": {
           "colorbar": {
            "outlinewidth": 0,
            "ticks": ""
           }
          },
          "colorscale": {
           "diverging": [
            [
             0,
             "#8e0152"
            ],
            [
             0.1,
             "#c51b7d"
            ],
            [
             0.2,
             "#de77ae"
            ],
            [
             0.3,
             "#f1b6da"
            ],
            [
             0.4,
             "#fde0ef"
            ],
            [
             0.5,
             "#f7f7f7"
            ],
            [
             0.6,
             "#e6f5d0"
            ],
            [
             0.7,
             "#b8e186"
            ],
            [
             0.8,
             "#7fbc41"
            ],
            [
             0.9,
             "#4d9221"
            ],
            [
             1,
             "#276419"
            ]
           ],
           "sequential": [
            [
             0,
             "#0d0887"
            ],
            [
             0.1111111111111111,
             "#46039f"
            ],
            [
             0.2222222222222222,
             "#7201a8"
            ],
            [
             0.3333333333333333,
             "#9c179e"
            ],
            [
             0.4444444444444444,
             "#bd3786"
            ],
            [
             0.5555555555555556,
             "#d8576b"
            ],
            [
             0.6666666666666666,
             "#ed7953"
            ],
            [
             0.7777777777777778,
             "#fb9f3a"
            ],
            [
             0.8888888888888888,
             "#fdca26"
            ],
            [
             1,
             "#f0f921"
            ]
           ],
           "sequentialminus": [
            [
             0,
             "#0d0887"
            ],
            [
             0.1111111111111111,
             "#46039f"
            ],
            [
             0.2222222222222222,
             "#7201a8"
            ],
            [
             0.3333333333333333,
             "#9c179e"
            ],
            [
             0.4444444444444444,
             "#bd3786"
            ],
            [
             0.5555555555555556,
             "#d8576b"
            ],
            [
             0.6666666666666666,
             "#ed7953"
            ],
            [
             0.7777777777777778,
             "#fb9f3a"
            ],
            [
             0.8888888888888888,
             "#fdca26"
            ],
            [
             1,
             "#f0f921"
            ]
           ]
          },
          "colorway": [
           "#636efa",
           "#EF553B",
           "#00cc96",
           "#ab63fa",
           "#FFA15A",
           "#19d3f3",
           "#FF6692",
           "#B6E880",
           "#FF97FF",
           "#FECB52"
          ],
          "font": {
           "color": "#2a3f5f"
          },
          "geo": {
           "bgcolor": "white",
           "lakecolor": "white",
           "landcolor": "#E5ECF6",
           "showlakes": true,
           "showland": true,
           "subunitcolor": "white"
          },
          "hoverlabel": {
           "align": "left"
          },
          "hovermode": "closest",
          "mapbox": {
           "style": "light"
          },
          "paper_bgcolor": "white",
          "plot_bgcolor": "#E5ECF6",
          "polar": {
           "angularaxis": {
            "gridcolor": "white",
            "linecolor": "white",
            "ticks": ""
           },
           "bgcolor": "#E5ECF6",
           "radialaxis": {
            "gridcolor": "white",
            "linecolor": "white",
            "ticks": ""
           }
          },
          "scene": {
           "xaxis": {
            "backgroundcolor": "#E5ECF6",
            "gridcolor": "white",
            "gridwidth": 2,
            "linecolor": "white",
            "showbackground": true,
            "ticks": "",
            "zerolinecolor": "white"
           },
           "yaxis": {
            "backgroundcolor": "#E5ECF6",
            "gridcolor": "white",
            "gridwidth": 2,
            "linecolor": "white",
            "showbackground": true,
            "ticks": "",
            "zerolinecolor": "white"
           },
           "zaxis": {
            "backgroundcolor": "#E5ECF6",
            "gridcolor": "white",
            "gridwidth": 2,
            "linecolor": "white",
            "showbackground": true,
            "ticks": "",
            "zerolinecolor": "white"
           }
          },
          "shapedefaults": {
           "line": {
            "color": "#2a3f5f"
           }
          },
          "ternary": {
           "aaxis": {
            "gridcolor": "white",
            "linecolor": "white",
            "ticks": ""
           },
           "baxis": {
            "gridcolor": "white",
            "linecolor": "white",
            "ticks": ""
           },
           "bgcolor": "#E5ECF6",
           "caxis": {
            "gridcolor": "white",
            "linecolor": "white",
            "ticks": ""
           }
          },
          "title": {
           "x": 0.05
          },
          "xaxis": {
           "automargin": true,
           "gridcolor": "white",
           "linecolor": "white",
           "ticks": "",
           "title": {
            "standoff": 15
           },
           "zerolinecolor": "white",
           "zerolinewidth": 2
          },
          "yaxis": {
           "automargin": true,
           "gridcolor": "white",
           "linecolor": "white",
           "ticks": "",
           "title": {
            "standoff": 15
           },
           "zerolinecolor": "white",
           "zerolinewidth": 2
          }
         }
        },
        "xaxis": {
         "anchor": "y",
         "domain": [
          0,
          1
         ],
         "title": {
          "text": "x"
         }
        },
        "yaxis": {
         "anchor": "x",
         "domain": [
          0,
          1
         ],
         "title": {
          "text": "y"
         },
         "type": "log"
        }
       }
      }
     },
     "metadata": {},
     "output_type": "display_data"
    }
   ],
   "source": [
    "counts, values = np.unique(MRT_2021['時段'], return_counts=True)\n",
    "\n",
    "fig = px.bar(x = counts, y = values, log_y=True)\n",
    "fig"
   ]
  },
  {
   "cell_type": "markdown",
   "metadata": {},
   "source": [
    "首先，限制日期在XXX"
   ]
  },
  {
   "cell_type": "code",
   "execution_count": null,
   "metadata": {},
   "outputs": [],
   "source": [
    "def filter_new_year(df):\n",
    "    return df[df['日期'] == '2022-01-01']\n",
    "\n",
    "# MRT_2021.query(\"`日期` == '2022-01-01'\")"
   ]
  },
  {
   "cell_type": "markdown",
   "metadata": {},
   "source": [
    "再者，由於xxxxx"
   ]
  },
  {
   "cell_type": "code",
   "execution_count": 21,
   "metadata": {},
   "outputs": [],
   "source": [
    "def remove_alphabets_from_stations(df):\n",
    "    import re\n",
    "    pattern = re.compile('[a-zA-Z]')\n",
    "    df_ = df.copy()\n",
    "    df_['進站'] = df['進站'].apply(lambda x: re.sub(pattern, '', x))\n",
    "    return df_\n"
   ]
  },
  {
   "cell_type": "markdown",
   "metadata": {},
   "source": [
    "我們想要xxxx"
   ]
  },
  {
   "cell_type": "code",
   "execution_count": 23,
   "metadata": {},
   "outputs": [
    {
     "data": {
      "text/html": [
       "<div>\n",
       "<style scoped>\n",
       "    .dataframe tbody tr th:only-of-type {\n",
       "        vertical-align: middle;\n",
       "    }\n",
       "\n",
       "    .dataframe tbody tr th {\n",
       "        vertical-align: top;\n",
       "    }\n",
       "\n",
       "    .dataframe thead th {\n",
       "        text-align: right;\n",
       "    }\n",
       "</style>\n",
       "<table border=\"1\" class=\"dataframe\">\n",
       "  <thead>\n",
       "    <tr style=\"text-align: right;\">\n",
       "      <th></th>\n",
       "      <th>時段</th>\n",
       "      <th>進站</th>\n",
       "      <th>人次</th>\n",
       "    </tr>\n",
       "  </thead>\n",
       "  <tbody>\n",
       "    <tr>\n",
       "      <th>0</th>\n",
       "      <td>2</td>\n",
       "      <td>七張</td>\n",
       "      <td>114</td>\n",
       "    </tr>\n",
       "    <tr>\n",
       "      <th>1</th>\n",
       "      <td>2</td>\n",
       "      <td>三和國中</td>\n",
       "      <td>59</td>\n",
       "    </tr>\n",
       "    <tr>\n",
       "      <th>2</th>\n",
       "      <td>2</td>\n",
       "      <td>三民高中</td>\n",
       "      <td>68</td>\n",
       "    </tr>\n",
       "    <tr>\n",
       "      <th>3</th>\n",
       "      <td>2</td>\n",
       "      <td>三重</td>\n",
       "      <td>152</td>\n",
       "    </tr>\n",
       "    <tr>\n",
       "      <th>4</th>\n",
       "      <td>2</td>\n",
       "      <td>三重國小</td>\n",
       "      <td>89</td>\n",
       "    </tr>\n",
       "    <tr>\n",
       "      <th>...</th>\n",
       "      <td>...</td>\n",
       "      <td>...</td>\n",
       "      <td>...</td>\n",
       "    </tr>\n",
       "    <tr>\n",
       "      <th>467</th>\n",
       "      <td>5</td>\n",
       "      <td>頂埔</td>\n",
       "      <td>28</td>\n",
       "    </tr>\n",
       "    <tr>\n",
       "      <th>468</th>\n",
       "      <td>5</td>\n",
       "      <td>頂溪</td>\n",
       "      <td>187</td>\n",
       "    </tr>\n",
       "    <tr>\n",
       "      <th>469</th>\n",
       "      <td>5</td>\n",
       "      <td>頭前庄</td>\n",
       "      <td>51</td>\n",
       "    </tr>\n",
       "    <tr>\n",
       "      <th>470</th>\n",
       "      <td>5</td>\n",
       "      <td>麟光</td>\n",
       "      <td>15</td>\n",
       "    </tr>\n",
       "    <tr>\n",
       "      <th>471</th>\n",
       "      <td>5</td>\n",
       "      <td>龍山寺</td>\n",
       "      <td>61</td>\n",
       "    </tr>\n",
       "  </tbody>\n",
       "</table>\n",
       "<p>472 rows × 3 columns</p>\n",
       "</div>"
      ],
      "text/plain": [
       "     時段    進站   人次\n",
       "0     2    七張  114\n",
       "1     2  三和國中   59\n",
       "2     2  三民高中   68\n",
       "3     2    三重  152\n",
       "4     2  三重國小   89\n",
       "..   ..   ...  ...\n",
       "467   5    頂埔   28\n",
       "468   5    頂溪  187\n",
       "469   5   頭前庄   51\n",
       "470   5    麟光   15\n",
       "471   5   龍山寺   61\n",
       "\n",
       "[472 rows x 3 columns]"
      ]
     },
     "execution_count": 23,
     "metadata": {},
     "output_type": "execute_result"
    }
   ],
   "source": [
    "def sum_enter_by_station_time(df):\n",
    "    return df.groupby(['時段', '進站'])['人次'].sum().reset_index()\n"
   ]
  },
  {
   "cell_type": "code",
   "execution_count": 24,
   "metadata": {},
   "outputs": [
    {
     "data": {
      "text/html": [
       "<div>\n",
       "<style scoped>\n",
       "    .dataframe tbody tr th:only-of-type {\n",
       "        vertical-align: middle;\n",
       "    }\n",
       "\n",
       "    .dataframe tbody tr th {\n",
       "        vertical-align: top;\n",
       "    }\n",
       "\n",
       "    .dataframe thead th {\n",
       "        text-align: right;\n",
       "    }\n",
       "</style>\n",
       "<table border=\"1\" class=\"dataframe\">\n",
       "  <thead>\n",
       "    <tr style=\"text-align: right;\">\n",
       "      <th></th>\n",
       "      <th>時段</th>\n",
       "      <th>進站</th>\n",
       "      <th>人次</th>\n",
       "    </tr>\n",
       "  </thead>\n",
       "  <tbody>\n",
       "    <tr>\n",
       "      <th>0</th>\n",
       "      <td>2</td>\n",
       "      <td>七張</td>\n",
       "      <td>114</td>\n",
       "    </tr>\n",
       "    <tr>\n",
       "      <th>1</th>\n",
       "      <td>2</td>\n",
       "      <td>三和國中</td>\n",
       "      <td>59</td>\n",
       "    </tr>\n",
       "    <tr>\n",
       "      <th>2</th>\n",
       "      <td>2</td>\n",
       "      <td>三民高中</td>\n",
       "      <td>68</td>\n",
       "    </tr>\n",
       "    <tr>\n",
       "      <th>3</th>\n",
       "      <td>2</td>\n",
       "      <td>三重</td>\n",
       "      <td>152</td>\n",
       "    </tr>\n",
       "    <tr>\n",
       "      <th>4</th>\n",
       "      <td>2</td>\n",
       "      <td>三重國小</td>\n",
       "      <td>89</td>\n",
       "    </tr>\n",
       "    <tr>\n",
       "      <th>...</th>\n",
       "      <td>...</td>\n",
       "      <td>...</td>\n",
       "      <td>...</td>\n",
       "    </tr>\n",
       "    <tr>\n",
       "      <th>467</th>\n",
       "      <td>5</td>\n",
       "      <td>頂埔</td>\n",
       "      <td>28</td>\n",
       "    </tr>\n",
       "    <tr>\n",
       "      <th>468</th>\n",
       "      <td>5</td>\n",
       "      <td>頂溪</td>\n",
       "      <td>187</td>\n",
       "    </tr>\n",
       "    <tr>\n",
       "      <th>469</th>\n",
       "      <td>5</td>\n",
       "      <td>頭前庄</td>\n",
       "      <td>51</td>\n",
       "    </tr>\n",
       "    <tr>\n",
       "      <th>470</th>\n",
       "      <td>5</td>\n",
       "      <td>麟光</td>\n",
       "      <td>15</td>\n",
       "    </tr>\n",
       "    <tr>\n",
       "      <th>471</th>\n",
       "      <td>5</td>\n",
       "      <td>龍山寺</td>\n",
       "      <td>61</td>\n",
       "    </tr>\n",
       "  </tbody>\n",
       "</table>\n",
       "<p>472 rows × 3 columns</p>\n",
       "</div>"
      ],
      "text/plain": [
       "     時段    進站   人次\n",
       "0     2    七張  114\n",
       "1     2  三和國中   59\n",
       "2     2  三民高中   68\n",
       "3     2    三重  152\n",
       "4     2  三重國小   89\n",
       "..   ..   ...  ...\n",
       "467   5    頂埔   28\n",
       "468   5    頂溪  187\n",
       "469   5   頭前庄   51\n",
       "470   5    麟光   15\n",
       "471   5   龍山寺   61\n",
       "\n",
       "[472 rows x 3 columns]"
      ]
     },
     "execution_count": 24,
     "metadata": {},
     "output_type": "execute_result"
    }
   ],
   "source": [
    "MRT_newyear_sum = (MRT_2021\n",
    "                    .pipe(filter_new_year)\n",
    "                    .pipe(remove_alphabets_from_stations)\n",
    "                    .pipe(sum_enter_by_station_time)\n",
    "                )\n",
    "\n",
    "MRT_newyear_sum"
   ]
  },
  {
   "cell_type": "code",
   "execution_count": 26,
   "metadata": {},
   "outputs": [
    {
     "data": {
      "text/html": [
       "<div>\n",
       "<style scoped>\n",
       "    .dataframe tbody tr th:only-of-type {\n",
       "        vertical-align: middle;\n",
       "    }\n",
       "\n",
       "    .dataframe tbody tr th {\n",
       "        vertical-align: top;\n",
       "    }\n",
       "\n",
       "    .dataframe thead th {\n",
       "        text-align: right;\n",
       "    }\n",
       "</style>\n",
       "<table border=\"1\" class=\"dataframe\">\n",
       "  <thead>\n",
       "    <tr style=\"text-align: right;\">\n",
       "      <th></th>\n",
       "      <th>exit</th>\n",
       "      <th>經度</th>\n",
       "      <th>緯度</th>\n",
       "    </tr>\n",
       "  </thead>\n",
       "  <tbody>\n",
       "    <tr>\n",
       "      <th>0</th>\n",
       "      <td>七張</td>\n",
       "      <td>121.543068</td>\n",
       "      <td>24.975025</td>\n",
       "    </tr>\n",
       "    <tr>\n",
       "      <th>1</th>\n",
       "      <td>三和國中</td>\n",
       "      <td>121.486398</td>\n",
       "      <td>25.076586</td>\n",
       "    </tr>\n",
       "    <tr>\n",
       "      <th>2</th>\n",
       "      <td>三民高中</td>\n",
       "      <td>121.472714</td>\n",
       "      <td>25.085692</td>\n",
       "    </tr>\n",
       "    <tr>\n",
       "      <th>3</th>\n",
       "      <td>三重</td>\n",
       "      <td>121.483303</td>\n",
       "      <td>25.055352</td>\n",
       "    </tr>\n",
       "    <tr>\n",
       "      <th>4</th>\n",
       "      <td>三重國小</td>\n",
       "      <td>121.496702</td>\n",
       "      <td>25.070646</td>\n",
       "    </tr>\n",
       "    <tr>\n",
       "      <th>...</th>\n",
       "      <td>...</td>\n",
       "      <td>...</td>\n",
       "      <td>...</td>\n",
       "    </tr>\n",
       "    <tr>\n",
       "      <th>113</th>\n",
       "      <td>頂埔</td>\n",
       "      <td>121.418336</td>\n",
       "      <td>24.959327</td>\n",
       "    </tr>\n",
       "    <tr>\n",
       "      <th>114</th>\n",
       "      <td>頂溪</td>\n",
       "      <td>121.515414</td>\n",
       "      <td>25.012895</td>\n",
       "    </tr>\n",
       "    <tr>\n",
       "      <th>115</th>\n",
       "      <td>頭前庄</td>\n",
       "      <td>121.460303</td>\n",
       "      <td>25.039844</td>\n",
       "    </tr>\n",
       "    <tr>\n",
       "      <th>116</th>\n",
       "      <td>麟光</td>\n",
       "      <td>121.558606</td>\n",
       "      <td>25.018554</td>\n",
       "    </tr>\n",
       "    <tr>\n",
       "      <th>117</th>\n",
       "      <td>龍山寺</td>\n",
       "      <td>121.499530</td>\n",
       "      <td>25.035484</td>\n",
       "    </tr>\n",
       "  </tbody>\n",
       "</table>\n",
       "<p>118 rows × 3 columns</p>\n",
       "</div>"
      ],
      "text/plain": [
       "     exit          經度         緯度\n",
       "0      七張  121.543068  24.975025\n",
       "1    三和國中  121.486398  25.076586\n",
       "2    三民高中  121.472714  25.085692\n",
       "3      三重  121.483303  25.055352\n",
       "4    三重國小  121.496702  25.070646\n",
       "..    ...         ...        ...\n",
       "113    頂埔  121.418336  24.959327\n",
       "114    頂溪  121.515414  25.012895\n",
       "115   頭前庄  121.460303  25.039844\n",
       "116    麟光  121.558606  25.018554\n",
       "117   龍山寺  121.499530  25.035484\n",
       "\n",
       "[118 rows x 3 columns]"
      ]
     },
     "execution_count": 26,
     "metadata": {},
     "output_type": "execute_result"
    }
   ],
   "source": [
    "MRT_coordinate = pd.read_csv('./DATA/臺北捷運車站出入口座標.csv', encoding = 'big5')\n",
    "\n",
    "def get_unique_station_geodata(df):\n",
    "    df['exit'] = df['出入口名稱'].str.split('站出口').str[0]\n",
    "    df.loc[df['exit'].str.contains('台北車', regex=False), 'exit' ] = '台北車站'\n",
    "    return df.groupby('exit').first().reset_index()[['exit', '經度', '緯度']]\n",
    "    \n",
    "\n",
    "MRT_first_coord = get_unique_station_geodata(MRT_coordinate)\n",
    "MRT_first_coord"
   ]
  },
  {
   "cell_type": "code",
   "execution_count": 27,
   "metadata": {},
   "outputs": [
    {
     "data": {
      "text/html": [
       "<div>\n",
       "<style scoped>\n",
       "    .dataframe tbody tr th:only-of-type {\n",
       "        vertical-align: middle;\n",
       "    }\n",
       "\n",
       "    .dataframe tbody tr th {\n",
       "        vertical-align: top;\n",
       "    }\n",
       "\n",
       "    .dataframe thead th {\n",
       "        text-align: right;\n",
       "    }\n",
       "</style>\n",
       "<table border=\"1\" class=\"dataframe\">\n",
       "  <thead>\n",
       "    <tr style=\"text-align: right;\">\n",
       "      <th></th>\n",
       "      <th>時段</th>\n",
       "      <th>進站</th>\n",
       "      <th>人次</th>\n",
       "      <th>exit</th>\n",
       "      <th>經度</th>\n",
       "      <th>緯度</th>\n",
       "    </tr>\n",
       "  </thead>\n",
       "  <tbody>\n",
       "    <tr>\n",
       "      <th>0</th>\n",
       "      <td>2</td>\n",
       "      <td>七張</td>\n",
       "      <td>114</td>\n",
       "      <td>七張</td>\n",
       "      <td>121.543068</td>\n",
       "      <td>24.975025</td>\n",
       "    </tr>\n",
       "    <tr>\n",
       "      <th>1</th>\n",
       "      <td>2</td>\n",
       "      <td>三和國中</td>\n",
       "      <td>59</td>\n",
       "      <td>三和國中</td>\n",
       "      <td>121.486398</td>\n",
       "      <td>25.076586</td>\n",
       "    </tr>\n",
       "    <tr>\n",
       "      <th>2</th>\n",
       "      <td>2</td>\n",
       "      <td>三民高中</td>\n",
       "      <td>68</td>\n",
       "      <td>三民高中</td>\n",
       "      <td>121.472714</td>\n",
       "      <td>25.085692</td>\n",
       "    </tr>\n",
       "    <tr>\n",
       "      <th>3</th>\n",
       "      <td>2</td>\n",
       "      <td>三重</td>\n",
       "      <td>152</td>\n",
       "      <td>三重</td>\n",
       "      <td>121.483303</td>\n",
       "      <td>25.055352</td>\n",
       "    </tr>\n",
       "    <tr>\n",
       "      <th>4</th>\n",
       "      <td>2</td>\n",
       "      <td>三重國小</td>\n",
       "      <td>89</td>\n",
       "      <td>三重國小</td>\n",
       "      <td>121.496702</td>\n",
       "      <td>25.070646</td>\n",
       "    </tr>\n",
       "    <tr>\n",
       "      <th>...</th>\n",
       "      <td>...</td>\n",
       "      <td>...</td>\n",
       "      <td>...</td>\n",
       "      <td>...</td>\n",
       "      <td>...</td>\n",
       "      <td>...</td>\n",
       "    </tr>\n",
       "    <tr>\n",
       "      <th>467</th>\n",
       "      <td>5</td>\n",
       "      <td>頂埔</td>\n",
       "      <td>28</td>\n",
       "      <td>頂埔</td>\n",
       "      <td>121.418336</td>\n",
       "      <td>24.959327</td>\n",
       "    </tr>\n",
       "    <tr>\n",
       "      <th>468</th>\n",
       "      <td>5</td>\n",
       "      <td>頂溪</td>\n",
       "      <td>187</td>\n",
       "      <td>頂溪</td>\n",
       "      <td>121.515414</td>\n",
       "      <td>25.012895</td>\n",
       "    </tr>\n",
       "    <tr>\n",
       "      <th>469</th>\n",
       "      <td>5</td>\n",
       "      <td>頭前庄</td>\n",
       "      <td>51</td>\n",
       "      <td>頭前庄</td>\n",
       "      <td>121.460303</td>\n",
       "      <td>25.039844</td>\n",
       "    </tr>\n",
       "    <tr>\n",
       "      <th>470</th>\n",
       "      <td>5</td>\n",
       "      <td>麟光</td>\n",
       "      <td>15</td>\n",
       "      <td>麟光</td>\n",
       "      <td>121.558606</td>\n",
       "      <td>25.018554</td>\n",
       "    </tr>\n",
       "    <tr>\n",
       "      <th>471</th>\n",
       "      <td>5</td>\n",
       "      <td>龍山寺</td>\n",
       "      <td>61</td>\n",
       "      <td>龍山寺</td>\n",
       "      <td>121.499530</td>\n",
       "      <td>25.035484</td>\n",
       "    </tr>\n",
       "  </tbody>\n",
       "</table>\n",
       "<p>472 rows × 6 columns</p>\n",
       "</div>"
      ],
      "text/plain": [
       "     時段    進站   人次  exit          經度         緯度\n",
       "0     2    七張  114    七張  121.543068  24.975025\n",
       "1     2  三和國中   59  三和國中  121.486398  25.076586\n",
       "2     2  三民高中   68  三民高中  121.472714  25.085692\n",
       "3     2    三重  152    三重  121.483303  25.055352\n",
       "4     2  三重國小   89  三重國小  121.496702  25.070646\n",
       "..   ..   ...  ...   ...         ...        ...\n",
       "467   5    頂埔   28    頂埔  121.418336  24.959327\n",
       "468   5    頂溪  187    頂溪  121.515414  25.012895\n",
       "469   5   頭前庄   51   頭前庄  121.460303  25.039844\n",
       "470   5    麟光   15    麟光  121.558606  25.018554\n",
       "471   5   龍山寺   61   龍山寺  121.499530  25.035484\n",
       "\n",
       "[472 rows x 6 columns]"
      ]
     },
     "execution_count": 27,
     "metadata": {},
     "output_type": "execute_result"
    }
   ],
   "source": [
    "MRT_2021_sum_with_coord = pd.merge(MRT_newyear_sum, MRT_first_coord, left_on= '進站', right_on='exit', how = 'left')\n",
    "\n",
    "MRT_2021_sum_with_coord"
   ]
  },
  {
   "cell_type": "code",
   "execution_count": 45,
   "metadata": {},
   "outputs": [
    {
     "data": {
      "application/vnd.plotly.v1+json": {
       "config": {
        "plotlyServerURL": "https://plot.ly"
       },
       "data": [
        {
         "coloraxis": "coloraxis",
         "hovertemplate": "<b>%{hovertext}</b><br><br>時段=2<br>人次=%{z}<br>緯度=%{lat}<br>經度=%{lon}<extra></extra>",
         "hovertext": [
          "七張",
          "三和國中",
          "三民高中",
          "三重",
          "三重國小",
          "中原",
          "中和",
          "中山",
          "中山國中",
          "中山國小",
          "中正紀念堂",
          "丹鳳",
          "亞東醫院",
          "信義安和",
          "先嗇宮",
          "內湖",
          "公館",
          "六張犁",
          "劍南路",
          "劍潭",
          "動物園",
          "北投",
          "北門",
          "十四張",
          "南京三民",
          "南京復興",
          "南勢角",
          "南港",
          "南港展覽館",
          "南港軟體園區",
          "古亭",
          "台北101/世貿",
          "台北小巨蛋",
          "台北橋",
          "台北車站",
          "台大醫院",
          "台電大樓",
          "唭哩岸",
          "善導寺",
          "國父紀念館",
          "圓山",
          "土城",
          "士林",
          "大坪林",
          "大安",
          "大安森林公園",
          null,
          "大湖公園",
          "大直",
          "奇岩",
          "小南門",
          "小碧潭",
          "市政府",
          "幸福",
          "府中",
          "後山埤",
          "徐匯中學",
          "復興崗",
          "忠孝復興",
          "忠孝敦化",
          "忠孝新生",
          "忠義",
          "文德",
          "新北投",
          "新北產業園區",
          "新埔",
          "新埔民生",
          "新店",
          "新店區公所",
          "新莊",
          "昆陽",
          "明德",
          "景安",
          "景平",
          "景美",
          "木柵",
          "東湖",
          "東門",
          "松山",
          "松山機場",
          "松江南京",
          "板新",
          "板橋",
          "橋和",
          "民權西路",
          "永安市場",
          "永寧",
          "永春",
          "江子翠",
          "海山",
          "淡水",
          "港墘",
          "石牌",
          "秀朗橋",
          "科技大樓",
          "竹圍",
          "紅樹林",
          "芝山",
          "菜寮",
          "萬芳社區",
          "萬芳醫院",
          "萬隆",
          "葫洲",
          "蘆洲",
          "行天宮",
          "西湖",
          "西門",
          "象山",
          "輔大",
          "辛亥",
          "迴龍",
          "關渡",
          "雙連",
          "頂埔",
          "頂溪",
          "頭前庄",
          "麟光",
          "龍山寺"
         ],
         "lat": [
          24.975025,
          25.076586,
          25.085692,
          25.05535171,
          25.0706459,
          25.0084104,
          25.00221178,
          25.052414,
          25.06082643,
          25.06284,
          25.033345,
          25.02899,
          24.998933,
          25.033377,
          25.046497,
          25.083745,
          25.014509,
          25.023852,
          25.08548437,
          25.08503,
          24.9982988,
          25.1323269,
          25.04886092,
          24.984467,
          25.051545,
          25.052625,
          24.99052883,
          25.051911,
          25.0557844,
          25.06038509,
          25.025976,
          25.033107,
          25.051836,
          25.062966,
          25.046755,
          25.040913,
          25.01962,
          25.12070935,
          25.045097,
          25.041838,
          25.070785,
          24.973251,
          25.094106,
          24.982754,
          25.03360186,
          25.033693,
          null,
          25.083894,
          25.08036069,
          25.12611852,
          25.036434,
          24.971803,
          25.041408,
          25.050126,
          25.008486,
          25.044422,
          25.080303,
          25.137665,
          25.041797,
          25.041642,
          25.042103,
          25.131056,
          25.078671,
          25.136968,
          25.061564,
          25.023063,
          25.026125,
          24.95784,
          24.967393,
          25.03630271,
          25.050319,
          25.109298,
          24.993731,
          24.991926,
          24.99213264,
          24.998174,
          25.067189,
          25.034157,
          25.050171,
          25.0636308,
          25.051842,
          25.0144914,
          25.0133143,
          25.004803,
          25.062641,
          25.002375,
          24.966641,
          25.040995,
          25.030298,
          24.9853885,
          25.168266,
          25.08013028,
          25.1149633,
          24.99053445,
          25.026154,
          25.1371,
          25.15449713,
          25.102046,
          25.05971,
          24.99858101,
          24.999383,
          25.001367,
          25.0725096,
          25.0913266,
          25.05810168,
          25.082339,
          25.042137,
          25.0330078,
          25.032932,
          25.005119,
          25.02182108,
          25.125431,
          25.057499,
          24.9593267,
          25.012895,
          25.039844,
          25.018554,
          25.035484
         ],
         "lon": [
          121.543068,
          121.486398,
          121.472714,
          121.4833034,
          121.4967021,
          121.4841593,
          121.4964906,
          121.520303,
          121.5439794,
          121.526095,
          121.517599,
          121.42231,
          121.452581,
          121.552602,
          121.471319,
          121.594266,
          121.534377,
          121.552737,
          121.5553542,
          121.525175,
          121.579942,
          121.4981189,
          121.5099865,
          121.527701,
          121.563196,
          121.542121,
          121.507876,
          121.606357,
          121.6170736,
          121.6158607,
          121.522973,
          121.561671,
          121.55153,
          121.500281,
          121.516246,
          121.515731,
          121.528577,
          121.5069183,
          121.523009,
          121.556663,
          121.520033,
          121.444173,
          121.525966,
          121.540874,
          121.5420001,
          121.534442,
          null,
          121.602377,
          121.5469257,
          121.5009856,
          121.509752,
          121.529896,
          121.565459,
          121.460146,
          121.459077,
          121.58141,
          121.47988,
          121.4854068,
          121.543143,
          121.550578,
          121.532065,
          121.473169,
          121.58564,
          121.503524,
          121.459774,
          121.467457,
          121.466839,
          121.53758,
          121.541124,
          121.4524435,
          121.592726,
          121.519153,
          121.50456,
          121.51625,
          121.5406932,
          121.573417,
          121.6108991,
          121.527994,
          121.577022,
          121.5520427,
          121.532388,
          121.4722124,
          121.461838,
          121.490278,
          121.519454,
          121.510962,
          121.4355625,
          121.57512,
          121.471914,
          121.4486097,
          121.445502,
          121.5758005,
          121.5152545,
          121.5253895,
          121.543636,
          121.45959,
          121.4590331,
          121.522636,
          121.490673,
          121.5684087,
          121.557737,
          121.538896,
          121.6080683,
          121.4647333,
          121.533047,
          121.566647,
          121.507566,
          121.569334,
          121.435264,
          121.557021,
          121.411269,
          121.467215,
          121.520588,
          121.4183364,
          121.515414,
          121.460303,
          121.558606,
          121.49953
         ],
         "name": "",
         "radius": 50,
         "subplot": "mapbox",
         "type": "densitymapbox",
         "z": [
          114,
          59,
          68,
          152,
          89,
          19,
          49,
          529,
          118,
          235,
          183,
          64,
          100,
          2575,
          30,
          61,
          605,
          683,
          448,
          364,
          225,
          87,
          184,
          12,
          552,
          513,
          93,
          138,
          114,
          18,
          339,
          6484,
          343,
          169,
          1421,
          53,
          133,
          51,
          143,
          1956,
          331,
          34,
          297,
          126,
          775,
          205,
          190,
          36,
          137,
          36,
          26,
          0,
          6769,
          58,
          256,
          246,
          89,
          30,
          1098,
          1453,
          517,
          10,
          43,
          0,
          125,
          169,
          50,
          72,
          78,
          104,
          99,
          61,
          121,
          47,
          133,
          34,
          57,
          270,
          912,
          20,
          279,
          33,
          435,
          12,
          209,
          137,
          37,
          946,
          179,
          93,
          416,
          64,
          152,
          35,
          160,
          98,
          244,
          172,
          91,
          16,
          71,
          85,
          42,
          114,
          191,
          96,
          1509,
          2673,
          91,
          54,
          80,
          65,
          193,
          45,
          270,
          47,
          111,
          155
         ]
        }
       ],
       "frames": [
        {
         "data": [
          {
           "coloraxis": "coloraxis",
           "hovertemplate": "<b>%{hovertext}</b><br><br>時段=2<br>人次=%{z}<br>緯度=%{lat}<br>經度=%{lon}<extra></extra>",
           "hovertext": [
            "七張",
            "三和國中",
            "三民高中",
            "三重",
            "三重國小",
            "中原",
            "中和",
            "中山",
            "中山國中",
            "中山國小",
            "中正紀念堂",
            "丹鳳",
            "亞東醫院",
            "信義安和",
            "先嗇宮",
            "內湖",
            "公館",
            "六張犁",
            "劍南路",
            "劍潭",
            "動物園",
            "北投",
            "北門",
            "十四張",
            "南京三民",
            "南京復興",
            "南勢角",
            "南港",
            "南港展覽館",
            "南港軟體園區",
            "古亭",
            "台北101/世貿",
            "台北小巨蛋",
            "台北橋",
            "台北車站",
            "台大醫院",
            "台電大樓",
            "唭哩岸",
            "善導寺",
            "國父紀念館",
            "圓山",
            "土城",
            "士林",
            "大坪林",
            "大安",
            "大安森林公園",
            null,
            "大湖公園",
            "大直",
            "奇岩",
            "小南門",
            "小碧潭",
            "市政府",
            "幸福",
            "府中",
            "後山埤",
            "徐匯中學",
            "復興崗",
            "忠孝復興",
            "忠孝敦化",
            "忠孝新生",
            "忠義",
            "文德",
            "新北投",
            "新北產業園區",
            "新埔",
            "新埔民生",
            "新店",
            "新店區公所",
            "新莊",
            "昆陽",
            "明德",
            "景安",
            "景平",
            "景美",
            "木柵",
            "東湖",
            "東門",
            "松山",
            "松山機場",
            "松江南京",
            "板新",
            "板橋",
            "橋和",
            "民權西路",
            "永安市場",
            "永寧",
            "永春",
            "江子翠",
            "海山",
            "淡水",
            "港墘",
            "石牌",
            "秀朗橋",
            "科技大樓",
            "竹圍",
            "紅樹林",
            "芝山",
            "菜寮",
            "萬芳社區",
            "萬芳醫院",
            "萬隆",
            "葫洲",
            "蘆洲",
            "行天宮",
            "西湖",
            "西門",
            "象山",
            "輔大",
            "辛亥",
            "迴龍",
            "關渡",
            "雙連",
            "頂埔",
            "頂溪",
            "頭前庄",
            "麟光",
            "龍山寺"
           ],
           "lat": [
            24.975025,
            25.076586,
            25.085692,
            25.05535171,
            25.0706459,
            25.0084104,
            25.00221178,
            25.052414,
            25.06082643,
            25.06284,
            25.033345,
            25.02899,
            24.998933,
            25.033377,
            25.046497,
            25.083745,
            25.014509,
            25.023852,
            25.08548437,
            25.08503,
            24.9982988,
            25.1323269,
            25.04886092,
            24.984467,
            25.051545,
            25.052625,
            24.99052883,
            25.051911,
            25.0557844,
            25.06038509,
            25.025976,
            25.033107,
            25.051836,
            25.062966,
            25.046755,
            25.040913,
            25.01962,
            25.12070935,
            25.045097,
            25.041838,
            25.070785,
            24.973251,
            25.094106,
            24.982754,
            25.03360186,
            25.033693,
            null,
            25.083894,
            25.08036069,
            25.12611852,
            25.036434,
            24.971803,
            25.041408,
            25.050126,
            25.008486,
            25.044422,
            25.080303,
            25.137665,
            25.041797,
            25.041642,
            25.042103,
            25.131056,
            25.078671,
            25.136968,
            25.061564,
            25.023063,
            25.026125,
            24.95784,
            24.967393,
            25.03630271,
            25.050319,
            25.109298,
            24.993731,
            24.991926,
            24.99213264,
            24.998174,
            25.067189,
            25.034157,
            25.050171,
            25.0636308,
            25.051842,
            25.0144914,
            25.0133143,
            25.004803,
            25.062641,
            25.002375,
            24.966641,
            25.040995,
            25.030298,
            24.9853885,
            25.168266,
            25.08013028,
            25.1149633,
            24.99053445,
            25.026154,
            25.1371,
            25.15449713,
            25.102046,
            25.05971,
            24.99858101,
            24.999383,
            25.001367,
            25.0725096,
            25.0913266,
            25.05810168,
            25.082339,
            25.042137,
            25.0330078,
            25.032932,
            25.005119,
            25.02182108,
            25.125431,
            25.057499,
            24.9593267,
            25.012895,
            25.039844,
            25.018554,
            25.035484
           ],
           "lon": [
            121.543068,
            121.486398,
            121.472714,
            121.4833034,
            121.4967021,
            121.4841593,
            121.4964906,
            121.520303,
            121.5439794,
            121.526095,
            121.517599,
            121.42231,
            121.452581,
            121.552602,
            121.471319,
            121.594266,
            121.534377,
            121.552737,
            121.5553542,
            121.525175,
            121.579942,
            121.4981189,
            121.5099865,
            121.527701,
            121.563196,
            121.542121,
            121.507876,
            121.606357,
            121.6170736,
            121.6158607,
            121.522973,
            121.561671,
            121.55153,
            121.500281,
            121.516246,
            121.515731,
            121.528577,
            121.5069183,
            121.523009,
            121.556663,
            121.520033,
            121.444173,
            121.525966,
            121.540874,
            121.5420001,
            121.534442,
            null,
            121.602377,
            121.5469257,
            121.5009856,
            121.509752,
            121.529896,
            121.565459,
            121.460146,
            121.459077,
            121.58141,
            121.47988,
            121.4854068,
            121.543143,
            121.550578,
            121.532065,
            121.473169,
            121.58564,
            121.503524,
            121.459774,
            121.467457,
            121.466839,
            121.53758,
            121.541124,
            121.4524435,
            121.592726,
            121.519153,
            121.50456,
            121.51625,
            121.5406932,
            121.573417,
            121.6108991,
            121.527994,
            121.577022,
            121.5520427,
            121.532388,
            121.4722124,
            121.461838,
            121.490278,
            121.519454,
            121.510962,
            121.4355625,
            121.57512,
            121.471914,
            121.4486097,
            121.445502,
            121.5758005,
            121.5152545,
            121.5253895,
            121.543636,
            121.45959,
            121.4590331,
            121.522636,
            121.490673,
            121.5684087,
            121.557737,
            121.538896,
            121.6080683,
            121.4647333,
            121.533047,
            121.566647,
            121.507566,
            121.569334,
            121.435264,
            121.557021,
            121.411269,
            121.467215,
            121.520588,
            121.4183364,
            121.515414,
            121.460303,
            121.558606,
            121.49953
           ],
           "name": "",
           "radius": 50,
           "subplot": "mapbox",
           "type": "densitymapbox",
           "z": [
            114,
            59,
            68,
            152,
            89,
            19,
            49,
            529,
            118,
            235,
            183,
            64,
            100,
            2575,
            30,
            61,
            605,
            683,
            448,
            364,
            225,
            87,
            184,
            12,
            552,
            513,
            93,
            138,
            114,
            18,
            339,
            6484,
            343,
            169,
            1421,
            53,
            133,
            51,
            143,
            1956,
            331,
            34,
            297,
            126,
            775,
            205,
            190,
            36,
            137,
            36,
            26,
            0,
            6769,
            58,
            256,
            246,
            89,
            30,
            1098,
            1453,
            517,
            10,
            43,
            0,
            125,
            169,
            50,
            72,
            78,
            104,
            99,
            61,
            121,
            47,
            133,
            34,
            57,
            270,
            912,
            20,
            279,
            33,
            435,
            12,
            209,
            137,
            37,
            946,
            179,
            93,
            416,
            64,
            152,
            35,
            160,
            98,
            244,
            172,
            91,
            16,
            71,
            85,
            42,
            114,
            191,
            96,
            1509,
            2673,
            91,
            54,
            80,
            65,
            193,
            45,
            270,
            47,
            111,
            155
           ]
          }
         ],
         "name": "2"
        },
        {
         "data": [
          {
           "coloraxis": "coloraxis",
           "hovertemplate": "<b>%{hovertext}</b><br><br>時段=3<br>人次=%{z}<br>緯度=%{lat}<br>經度=%{lon}<extra></extra>",
           "hovertext": [
            "七張",
            "三和國中",
            "三民高中",
            "三重",
            "三重國小",
            "中原",
            "中和",
            "中山",
            "中山國中",
            "中山國小",
            "中正紀念堂",
            "丹鳳",
            "亞東醫院",
            "信義安和",
            "先嗇宮",
            "內湖",
            "公館",
            "六張犁",
            "劍南路",
            "劍潭",
            "動物園",
            "北投",
            "北門",
            "十四張",
            "南京三民",
            "南京復興",
            "南勢角",
            "南港",
            "南港展覽館",
            "南港軟體園區",
            "古亭",
            "台北101/世貿",
            "台北小巨蛋",
            "台北橋",
            "台北車站",
            "台大醫院",
            "台電大樓",
            "唭哩岸",
            "善導寺",
            "國父紀念館",
            "圓山",
            "土城",
            "士林",
            "大坪林",
            "大安",
            "大安森林公園",
            null,
            "大湖公園",
            "大直",
            "奇岩",
            "小南門",
            "小碧潭",
            "市政府",
            "幸福",
            "府中",
            "後山埤",
            "徐匯中學",
            "復興崗",
            "忠孝復興",
            "忠孝敦化",
            "忠孝新生",
            "忠義",
            "文德",
            "新北投",
            "新北產業園區",
            "新埔",
            "新埔民生",
            "新店",
            "新店區公所",
            "新莊",
            "昆陽",
            "明德",
            "景安",
            "景平",
            "景美",
            "木柵",
            "東湖",
            "東門",
            "松山",
            "松山機場",
            "松江南京",
            "板新",
            "板橋",
            "橋和",
            "民權西路",
            "永安市場",
            "永寧",
            "永春",
            "江子翠",
            "海山",
            "淡水",
            "港墘",
            "石牌",
            "秀朗橋",
            "科技大樓",
            "竹圍",
            "紅樹林",
            "芝山",
            "菜寮",
            "萬芳社區",
            "萬芳醫院",
            "萬隆",
            "葫洲",
            "蘆洲",
            "行天宮",
            "西湖",
            "西門",
            "象山",
            "輔大",
            "辛亥",
            "迴龍",
            "關渡",
            "雙連",
            "頂埔",
            "頂溪",
            "頭前庄",
            "麟光",
            "龍山寺"
           ],
           "lat": [
            24.975025,
            25.076586,
            25.085692,
            25.05535171,
            25.0706459,
            25.0084104,
            25.00221178,
            25.052414,
            25.06082643,
            25.06284,
            25.033345,
            25.02899,
            24.998933,
            25.033377,
            25.046497,
            25.083745,
            25.014509,
            25.023852,
            25.08548437,
            25.08503,
            24.9982988,
            25.1323269,
            25.04886092,
            24.984467,
            25.051545,
            25.052625,
            24.99052883,
            25.051911,
            25.0557844,
            25.06038509,
            25.025976,
            25.033107,
            25.051836,
            25.062966,
            25.046755,
            25.040913,
            25.01962,
            25.12070935,
            25.045097,
            25.041838,
            25.070785,
            24.973251,
            25.094106,
            24.982754,
            25.03360186,
            25.033693,
            null,
            25.083894,
            25.08036069,
            25.12611852,
            25.036434,
            24.971803,
            25.041408,
            25.050126,
            25.008486,
            25.044422,
            25.080303,
            25.137665,
            25.041797,
            25.041642,
            25.042103,
            25.131056,
            25.078671,
            25.136968,
            25.061564,
            25.023063,
            25.026125,
            24.95784,
            24.967393,
            25.03630271,
            25.050319,
            25.109298,
            24.993731,
            24.991926,
            24.99213264,
            24.998174,
            25.067189,
            25.034157,
            25.050171,
            25.0636308,
            25.051842,
            25.0144914,
            25.0133143,
            25.004803,
            25.062641,
            25.002375,
            24.966641,
            25.040995,
            25.030298,
            24.9853885,
            25.168266,
            25.08013028,
            25.1149633,
            24.99053445,
            25.026154,
            25.1371,
            25.15449713,
            25.102046,
            25.05971,
            24.99858101,
            24.999383,
            25.001367,
            25.0725096,
            25.0913266,
            25.05810168,
            25.082339,
            25.042137,
            25.0330078,
            25.032932,
            25.005119,
            25.02182108,
            25.125431,
            25.057499,
            24.9593267,
            25.012895,
            25.039844,
            25.018554,
            25.035484
           ],
           "lon": [
            121.543068,
            121.486398,
            121.472714,
            121.4833034,
            121.4967021,
            121.4841593,
            121.4964906,
            121.520303,
            121.5439794,
            121.526095,
            121.517599,
            121.42231,
            121.452581,
            121.552602,
            121.471319,
            121.594266,
            121.534377,
            121.552737,
            121.5553542,
            121.525175,
            121.579942,
            121.4981189,
            121.5099865,
            121.527701,
            121.563196,
            121.542121,
            121.507876,
            121.606357,
            121.6170736,
            121.6158607,
            121.522973,
            121.561671,
            121.55153,
            121.500281,
            121.516246,
            121.515731,
            121.528577,
            121.5069183,
            121.523009,
            121.556663,
            121.520033,
            121.444173,
            121.525966,
            121.540874,
            121.5420001,
            121.534442,
            null,
            121.602377,
            121.5469257,
            121.5009856,
            121.509752,
            121.529896,
            121.565459,
            121.460146,
            121.459077,
            121.58141,
            121.47988,
            121.4854068,
            121.543143,
            121.550578,
            121.532065,
            121.473169,
            121.58564,
            121.503524,
            121.459774,
            121.467457,
            121.466839,
            121.53758,
            121.541124,
            121.4524435,
            121.592726,
            121.519153,
            121.50456,
            121.51625,
            121.5406932,
            121.573417,
            121.6108991,
            121.527994,
            121.577022,
            121.5520427,
            121.532388,
            121.4722124,
            121.461838,
            121.490278,
            121.519454,
            121.510962,
            121.4355625,
            121.57512,
            121.471914,
            121.4486097,
            121.445502,
            121.5758005,
            121.5152545,
            121.5253895,
            121.543636,
            121.45959,
            121.4590331,
            121.522636,
            121.490673,
            121.5684087,
            121.557737,
            121.538896,
            121.6080683,
            121.4647333,
            121.533047,
            121.566647,
            121.507566,
            121.569334,
            121.435264,
            121.557021,
            121.411269,
            121.467215,
            121.520588,
            121.4183364,
            121.515414,
            121.460303,
            121.558606,
            121.49953
           ],
           "name": "",
           "radius": 50,
           "subplot": "mapbox",
           "type": "densitymapbox",
           "z": [
            52,
            74,
            66,
            120,
            64,
            13,
            32,
            410,
            74,
            206,
            109,
            45,
            85,
            1000,
            7,
            43,
            416,
            254,
            178,
            150,
            47,
            73,
            115,
            12,
            227,
            357,
            64,
            54,
            99,
            14,
            221,
            2253,
            136,
            128,
            873,
            45,
            116,
            25,
            128,
            971,
            252,
            27,
            140,
            88,
            348,
            117,
            123,
            14,
            95,
            22,
            17,
            0,
            3042,
            36,
            193,
            132,
            53,
            6,
            844,
            1401,
            302,
            15,
            26,
            0,
            33,
            93,
            20,
            42,
            44,
            77,
            78,
            40,
            98,
            30,
            105,
            16,
            34,
            164,
            312,
            13,
            182,
            14,
            215,
            7,
            103,
            139,
            21,
            367,
            115,
            68,
            232,
            53,
            140,
            15,
            104,
            37,
            156,
            104,
            51,
            9,
            24,
            41,
            27,
            54,
            123,
            37,
            1270,
            895,
            35,
            6,
            49,
            36,
            167,
            25,
            218,
            32,
            48,
            111
           ]
          }
         ],
         "name": "3"
        },
        {
         "data": [
          {
           "coloraxis": "coloraxis",
           "hovertemplate": "<b>%{hovertext}</b><br><br>時段=4<br>人次=%{z}<br>緯度=%{lat}<br>經度=%{lon}<extra></extra>",
           "hovertext": [
            "七張",
            "三和國中",
            "三民高中",
            "三重",
            "三重國小",
            "中原",
            "中和",
            "中山",
            "中山國中",
            "中山國小",
            "中正紀念堂",
            "丹鳳",
            "亞東醫院",
            "信義安和",
            "先嗇宮",
            "內湖",
            "公館",
            "六張犁",
            "劍南路",
            "劍潭",
            "動物園",
            "北投",
            "北門",
            "十四張",
            "南京三民",
            "南京復興",
            "南勢角",
            "南港",
            "南港展覽館",
            "南港軟體園區",
            "古亭",
            "台北101/世貿",
            "台北小巨蛋",
            "台北橋",
            "台北車站",
            "台大醫院",
            "台電大樓",
            "唭哩岸",
            "善導寺",
            "國父紀念館",
            "圓山",
            "土城",
            "士林",
            "大坪林",
            "大安",
            "大安森林公園",
            null,
            "大湖公園",
            "大直",
            "奇岩",
            "小南門",
            "小碧潭",
            "市政府",
            "幸福",
            "府中",
            "後山埤",
            "徐匯中學",
            "復興崗",
            "忠孝復興",
            "忠孝敦化",
            "忠孝新生",
            "忠義",
            "文德",
            "新北投",
            "新北產業園區",
            "新埔",
            "新埔民生",
            "新店",
            "新店區公所",
            "新莊",
            "昆陽",
            "明德",
            "景安",
            "景平",
            "景美",
            "木柵",
            "東湖",
            "東門",
            "松山",
            "松山機場",
            "松江南京",
            "板新",
            "板橋",
            "橋和",
            "民權西路",
            "永安市場",
            "永寧",
            "永春",
            "江子翠",
            "海山",
            "淡水",
            "港墘",
            "石牌",
            "秀朗橋",
            "科技大樓",
            "竹圍",
            "紅樹林",
            "芝山",
            "菜寮",
            "萬芳社區",
            "萬芳醫院",
            "萬隆",
            "葫洲",
            "蘆洲",
            "行天宮",
            "西湖",
            "西門",
            "象山",
            "輔大",
            "辛亥",
            "迴龍",
            "關渡",
            "雙連",
            "頂埔",
            "頂溪",
            "頭前庄",
            "麟光",
            "龍山寺"
           ],
           "lat": [
            24.975025,
            25.076586,
            25.085692,
            25.05535171,
            25.0706459,
            25.0084104,
            25.00221178,
            25.052414,
            25.06082643,
            25.06284,
            25.033345,
            25.02899,
            24.998933,
            25.033377,
            25.046497,
            25.083745,
            25.014509,
            25.023852,
            25.08548437,
            25.08503,
            24.9982988,
            25.1323269,
            25.04886092,
            24.984467,
            25.051545,
            25.052625,
            24.99052883,
            25.051911,
            25.0557844,
            25.06038509,
            25.025976,
            25.033107,
            25.051836,
            25.062966,
            25.046755,
            25.040913,
            25.01962,
            25.12070935,
            25.045097,
            25.041838,
            25.070785,
            24.973251,
            25.094106,
            24.982754,
            25.03360186,
            25.033693,
            null,
            25.083894,
            25.08036069,
            25.12611852,
            25.036434,
            24.971803,
            25.041408,
            25.050126,
            25.008486,
            25.044422,
            25.080303,
            25.137665,
            25.041797,
            25.041642,
            25.042103,
            25.131056,
            25.078671,
            25.136968,
            25.061564,
            25.023063,
            25.026125,
            24.95784,
            24.967393,
            25.03630271,
            25.050319,
            25.109298,
            24.993731,
            24.991926,
            24.99213264,
            24.998174,
            25.067189,
            25.034157,
            25.050171,
            25.0636308,
            25.051842,
            25.0144914,
            25.0133143,
            25.004803,
            25.062641,
            25.002375,
            24.966641,
            25.040995,
            25.030298,
            24.9853885,
            25.168266,
            25.08013028,
            25.1149633,
            24.99053445,
            25.026154,
            25.1371,
            25.15449713,
            25.102046,
            25.05971,
            24.99858101,
            24.999383,
            25.001367,
            25.0725096,
            25.0913266,
            25.05810168,
            25.082339,
            25.042137,
            25.0330078,
            25.032932,
            25.005119,
            25.02182108,
            25.125431,
            25.057499,
            24.9593267,
            25.012895,
            25.039844,
            25.018554,
            25.035484
           ],
           "lon": [
            121.543068,
            121.486398,
            121.472714,
            121.4833034,
            121.4967021,
            121.4841593,
            121.4964906,
            121.520303,
            121.5439794,
            121.526095,
            121.517599,
            121.42231,
            121.452581,
            121.552602,
            121.471319,
            121.594266,
            121.534377,
            121.552737,
            121.5553542,
            121.525175,
            121.579942,
            121.4981189,
            121.5099865,
            121.527701,
            121.563196,
            121.542121,
            121.507876,
            121.606357,
            121.6170736,
            121.6158607,
            121.522973,
            121.561671,
            121.55153,
            121.500281,
            121.516246,
            121.515731,
            121.528577,
            121.5069183,
            121.523009,
            121.556663,
            121.520033,
            121.444173,
            121.525966,
            121.540874,
            121.5420001,
            121.534442,
            null,
            121.602377,
            121.5469257,
            121.5009856,
            121.509752,
            121.529896,
            121.565459,
            121.460146,
            121.459077,
            121.58141,
            121.47988,
            121.4854068,
            121.543143,
            121.550578,
            121.532065,
            121.473169,
            121.58564,
            121.503524,
            121.459774,
            121.467457,
            121.466839,
            121.53758,
            121.541124,
            121.4524435,
            121.592726,
            121.519153,
            121.50456,
            121.51625,
            121.5406932,
            121.573417,
            121.6108991,
            121.527994,
            121.577022,
            121.5520427,
            121.532388,
            121.4722124,
            121.461838,
            121.490278,
            121.519454,
            121.510962,
            121.4355625,
            121.57512,
            121.471914,
            121.4486097,
            121.445502,
            121.5758005,
            121.5152545,
            121.5253895,
            121.543636,
            121.45959,
            121.4590331,
            121.522636,
            121.490673,
            121.5684087,
            121.557737,
            121.538896,
            121.6080683,
            121.4647333,
            121.533047,
            121.566647,
            121.507566,
            121.569334,
            121.435264,
            121.557021,
            121.411269,
            121.467215,
            121.520588,
            121.4183364,
            121.515414,
            121.460303,
            121.558606,
            121.49953
           ],
           "name": "",
           "radius": 50,
           "subplot": "mapbox",
           "type": "densitymapbox",
           "z": [
            47,
            28,
            43,
            35,
            54,
            17,
            34,
            300,
            28,
            141,
            70,
            32,
            56,
            455,
            5,
            28,
            298,
            141,
            74,
            111,
            22,
            55,
            66,
            4,
            208,
            262,
            57,
            32,
            55,
            3,
            170,
            1055,
            92,
            97,
            478,
            26,
            85,
            32,
            67,
            395,
            329,
            18,
            140,
            61,
            170,
            94,
            66,
            12,
            42,
            9,
            6,
            0,
            1458,
            27,
            159,
            77,
            49,
            10,
            694,
            884,
            167,
            2,
            12,
            0,
            27,
            81,
            16,
            39,
            21,
            49,
            32,
            25,
            73,
            20,
            65,
            16,
            19,
            130,
            133,
            5,
            112,
            8,
            90,
            5,
            85,
            87,
            11,
            240,
            89,
            38,
            200,
            27,
            87,
            14,
            89,
            27,
            51,
            68,
            48,
            8,
            8,
            71,
            9,
            35,
            92,
            18,
            1066,
            472,
            23,
            21,
            29,
            14,
            88,
            24,
            126,
            19,
            26,
            95
           ]
          }
         ],
         "name": "4"
        },
        {
         "data": [
          {
           "coloraxis": "coloraxis",
           "hovertemplate": "<b>%{hovertext}</b><br><br>時段=5<br>人次=%{z}<br>緯度=%{lat}<br>經度=%{lon}<extra></extra>",
           "hovertext": [
            "七張",
            "三和國中",
            "三民高中",
            "三重",
            "三重國小",
            "中原",
            "中和",
            "中山",
            "中山國中",
            "中山國小",
            "中正紀念堂",
            "丹鳳",
            "亞東醫院",
            "信義安和",
            "先嗇宮",
            "內湖",
            "公館",
            "六張犁",
            "劍南路",
            "劍潭",
            "動物園",
            "北投",
            "北門",
            "十四張",
            "南京三民",
            "南京復興",
            "南勢角",
            "南港",
            "南港展覽館",
            "南港軟體園區",
            "古亭",
            "台北101/世貿",
            "台北小巨蛋",
            "台北橋",
            "台北車站",
            "台大醫院",
            "台電大樓",
            "唭哩岸",
            "善導寺",
            "國父紀念館",
            "圓山",
            "土城",
            "士林",
            "大坪林",
            "大安",
            "大安森林公園",
            null,
            "大湖公園",
            "大直",
            "奇岩",
            "小南門",
            "小碧潭",
            "市政府",
            "幸福",
            "府中",
            "後山埤",
            "徐匯中學",
            "復興崗",
            "忠孝復興",
            "忠孝敦化",
            "忠孝新生",
            "忠義",
            "文德",
            "新北投",
            "新北產業園區",
            "新埔",
            "新埔民生",
            "新店",
            "新店區公所",
            "新莊",
            "昆陽",
            "明德",
            "景安",
            "景平",
            "景美",
            "木柵",
            "東湖",
            "東門",
            "松山",
            "松山機場",
            "松江南京",
            "板新",
            "板橋",
            "橋和",
            "民權西路",
            "永安市場",
            "永寧",
            "永春",
            "江子翠",
            "海山",
            "淡水",
            "港墘",
            "石牌",
            "秀朗橋",
            "科技大樓",
            "竹圍",
            "紅樹林",
            "芝山",
            "菜寮",
            "萬芳社區",
            "萬芳醫院",
            "萬隆",
            "葫洲",
            "蘆洲",
            "行天宮",
            "西湖",
            "西門",
            "象山",
            "輔大",
            "辛亥",
            "迴龍",
            "關渡",
            "雙連",
            "頂埔",
            "頂溪",
            "頭前庄",
            "麟光",
            "龍山寺"
           ],
           "lat": [
            24.975025,
            25.076586,
            25.085692,
            25.05535171,
            25.0706459,
            25.0084104,
            25.00221178,
            25.052414,
            25.06082643,
            25.06284,
            25.033345,
            25.02899,
            24.998933,
            25.033377,
            25.046497,
            25.083745,
            25.014509,
            25.023852,
            25.08548437,
            25.08503,
            24.9982988,
            25.1323269,
            25.04886092,
            24.984467,
            25.051545,
            25.052625,
            24.99052883,
            25.051911,
            25.0557844,
            25.06038509,
            25.025976,
            25.033107,
            25.051836,
            25.062966,
            25.046755,
            25.040913,
            25.01962,
            25.12070935,
            25.045097,
            25.041838,
            25.070785,
            24.973251,
            25.094106,
            24.982754,
            25.03360186,
            25.033693,
            null,
            25.083894,
            25.08036069,
            25.12611852,
            25.036434,
            24.971803,
            25.041408,
            25.050126,
            25.008486,
            25.044422,
            25.080303,
            25.137665,
            25.041797,
            25.041642,
            25.042103,
            25.131056,
            25.078671,
            25.136968,
            25.061564,
            25.023063,
            25.026125,
            24.95784,
            24.967393,
            25.03630271,
            25.050319,
            25.109298,
            24.993731,
            24.991926,
            24.99213264,
            24.998174,
            25.067189,
            25.034157,
            25.050171,
            25.0636308,
            25.051842,
            25.0144914,
            25.0133143,
            25.004803,
            25.062641,
            25.002375,
            24.966641,
            25.040995,
            25.030298,
            24.9853885,
            25.168266,
            25.08013028,
            25.1149633,
            24.99053445,
            25.026154,
            25.1371,
            25.15449713,
            25.102046,
            25.05971,
            24.99858101,
            24.999383,
            25.001367,
            25.0725096,
            25.0913266,
            25.05810168,
            25.082339,
            25.042137,
            25.0330078,
            25.032932,
            25.005119,
            25.02182108,
            25.125431,
            25.057499,
            24.9593267,
            25.012895,
            25.039844,
            25.018554,
            25.035484
           ],
           "lon": [
            121.543068,
            121.486398,
            121.472714,
            121.4833034,
            121.4967021,
            121.4841593,
            121.4964906,
            121.520303,
            121.5439794,
            121.526095,
            121.517599,
            121.42231,
            121.452581,
            121.552602,
            121.471319,
            121.594266,
            121.534377,
            121.552737,
            121.5553542,
            121.525175,
            121.579942,
            121.4981189,
            121.5099865,
            121.527701,
            121.563196,
            121.542121,
            121.507876,
            121.606357,
            121.6170736,
            121.6158607,
            121.522973,
            121.561671,
            121.55153,
            121.500281,
            121.516246,
            121.515731,
            121.528577,
            121.5069183,
            121.523009,
            121.556663,
            121.520033,
            121.444173,
            121.525966,
            121.540874,
            121.5420001,
            121.534442,
            null,
            121.602377,
            121.5469257,
            121.5009856,
            121.509752,
            121.529896,
            121.565459,
            121.460146,
            121.459077,
            121.58141,
            121.47988,
            121.4854068,
            121.543143,
            121.550578,
            121.532065,
            121.473169,
            121.58564,
            121.503524,
            121.459774,
            121.467457,
            121.466839,
            121.53758,
            121.541124,
            121.4524435,
            121.592726,
            121.519153,
            121.50456,
            121.51625,
            121.5406932,
            121.573417,
            121.6108991,
            121.527994,
            121.577022,
            121.5520427,
            121.532388,
            121.4722124,
            121.461838,
            121.490278,
            121.519454,
            121.510962,
            121.4355625,
            121.57512,
            121.471914,
            121.4486097,
            121.445502,
            121.5758005,
            121.5152545,
            121.5253895,
            121.543636,
            121.45959,
            121.4590331,
            121.522636,
            121.490673,
            121.5684087,
            121.557737,
            121.538896,
            121.6080683,
            121.4647333,
            121.533047,
            121.566647,
            121.507566,
            121.569334,
            121.435264,
            121.557021,
            121.411269,
            121.467215,
            121.520588,
            121.4183364,
            121.515414,
            121.460303,
            121.558606,
            121.49953
           ],
           "name": "",
           "radius": 50,
           "subplot": "mapbox",
           "type": "densitymapbox",
           "z": [
            30,
            57,
            46,
            48,
            51,
            8,
            29,
            257,
            36,
            176,
            75,
            20,
            65,
            295,
            7,
            34,
            331,
            93,
            44,
            102,
            12,
            82,
            82,
            8,
            126,
            227,
            67,
            19,
            54,
            4,
            111,
            579,
            86,
            124,
            561,
            38,
            79,
            24,
            171,
            314,
            195,
            31,
            101,
            83,
            126,
            100,
            63,
            9,
            36,
            23,
            10,
            0,
            1051,
            35,
            225,
            58,
            50,
            12,
            505,
            610,
            149,
            5,
            13,
            0,
            10,
            120,
            12,
            34,
            24,
            29,
            19,
            32,
            76,
            18,
            116,
            23,
            17,
            89,
            120,
            2,
            165,
            18,
            159,
            2,
            92,
            81,
            52,
            158,
            121,
            74,
            133,
            27,
            105,
            20,
            69,
            25,
            51,
            59,
            31,
            4,
            21,
            72,
            18,
            46,
            143,
            36,
            817,
            321,
            40,
            16,
            29,
            27,
            99,
            28,
            187,
            51,
            15,
            61
           ]
          }
         ],
         "name": "5"
        }
       ],
       "layout": {
        "coloraxis": {
         "colorbar": {
          "title": {
           "text": "人次"
          }
         },
         "colorscale": [
          [
           0,
           "rgb(241, 236, 236)"
          ],
          [
           0.09090909090909091,
           "rgb(230, 209, 203)"
          ],
          [
           0.18181818181818182,
           "rgb(221, 182, 170)"
          ],
          [
           0.2727272727272727,
           "rgb(213, 156, 137)"
          ],
          [
           0.36363636363636365,
           "rgb(205, 129, 103)"
          ],
          [
           0.45454545454545453,
           "rgb(196, 102, 73)"
          ],
          [
           0.5454545454545454,
           "rgb(186, 74, 47)"
          ],
          [
           0.6363636363636364,
           "rgb(172, 44, 36)"
          ],
          [
           0.7272727272727273,
           "rgb(149, 19, 39)"
          ],
          [
           0.8181818181818182,
           "rgb(120, 14, 40)"
          ],
          [
           0.9090909090909091,
           "rgb(89, 13, 31)"
          ],
          [
           1,
           "rgb(60, 9, 17)"
          ]
         ]
        },
        "legend": {
         "tracegroupgap": 0
        },
        "mapbox": {
         "center": {
          "lat": 25.033671,
          "lon": 121.564427
         },
         "domain": {
          "x": [
           0,
           1
          ],
          "y": [
           0,
           1
          ]
         },
         "style": "carto-positron",
         "zoom": 12.5
        },
        "margin": {
         "t": 60
        },
        "sliders": [
         {
          "active": 0,
          "currentvalue": {
           "prefix": "時段="
          },
          "len": 0.9,
          "pad": {
           "b": 10,
           "t": 60
          },
          "steps": [
           {
            "args": [
             [
              "2"
             ],
             {
              "frame": {
               "duration": 0,
               "redraw": true
              },
              "fromcurrent": true,
              "mode": "immediate",
              "transition": {
               "duration": 0,
               "easing": "linear"
              }
             }
            ],
            "label": "2",
            "method": "animate"
           },
           {
            "args": [
             [
              "3"
             ],
             {
              "frame": {
               "duration": 0,
               "redraw": true
              },
              "fromcurrent": true,
              "mode": "immediate",
              "transition": {
               "duration": 0,
               "easing": "linear"
              }
             }
            ],
            "label": "3",
            "method": "animate"
           },
           {
            "args": [
             [
              "4"
             ],
             {
              "frame": {
               "duration": 0,
               "redraw": true
              },
              "fromcurrent": true,
              "mode": "immediate",
              "transition": {
               "duration": 0,
               "easing": "linear"
              }
             }
            ],
            "label": "4",
            "method": "animate"
           },
           {
            "args": [
             [
              "5"
             ],
             {
              "frame": {
               "duration": 0,
               "redraw": true
              },
              "fromcurrent": true,
              "mode": "immediate",
              "transition": {
               "duration": 0,
               "easing": "linear"
              }
             }
            ],
            "label": "5",
            "method": "animate"
           }
          ],
          "x": 0.1,
          "xanchor": "left",
          "y": 0,
          "yanchor": "top"
         }
        ],
        "template": {
         "data": {
          "bar": [
           {
            "error_x": {
             "color": "#2a3f5f"
            },
            "error_y": {
             "color": "#2a3f5f"
            },
            "marker": {
             "line": {
              "color": "#E5ECF6",
              "width": 0.5
             },
             "pattern": {
              "fillmode": "overlay",
              "size": 10,
              "solidity": 0.2
             }
            },
            "type": "bar"
           }
          ],
          "barpolar": [
           {
            "marker": {
             "line": {
              "color": "#E5ECF6",
              "width": 0.5
             },
             "pattern": {
              "fillmode": "overlay",
              "size": 10,
              "solidity": 0.2
             }
            },
            "type": "barpolar"
           }
          ],
          "carpet": [
           {
            "aaxis": {
             "endlinecolor": "#2a3f5f",
             "gridcolor": "white",
             "linecolor": "white",
             "minorgridcolor": "white",
             "startlinecolor": "#2a3f5f"
            },
            "baxis": {
             "endlinecolor": "#2a3f5f",
             "gridcolor": "white",
             "linecolor": "white",
             "minorgridcolor": "white",
             "startlinecolor": "#2a3f5f"
            },
            "type": "carpet"
           }
          ],
          "choropleth": [
           {
            "colorbar": {
             "outlinewidth": 0,
             "ticks": ""
            },
            "type": "choropleth"
           }
          ],
          "contour": [
           {
            "colorbar": {
             "outlinewidth": 0,
             "ticks": ""
            },
            "colorscale": [
             [
              0,
              "#0d0887"
             ],
             [
              0.1111111111111111,
              "#46039f"
             ],
             [
              0.2222222222222222,
              "#7201a8"
             ],
             [
              0.3333333333333333,
              "#9c179e"
             ],
             [
              0.4444444444444444,
              "#bd3786"
             ],
             [
              0.5555555555555556,
              "#d8576b"
             ],
             [
              0.6666666666666666,
              "#ed7953"
             ],
             [
              0.7777777777777778,
              "#fb9f3a"
             ],
             [
              0.8888888888888888,
              "#fdca26"
             ],
             [
              1,
              "#f0f921"
             ]
            ],
            "type": "contour"
           }
          ],
          "contourcarpet": [
           {
            "colorbar": {
             "outlinewidth": 0,
             "ticks": ""
            },
            "type": "contourcarpet"
           }
          ],
          "heatmap": [
           {
            "colorbar": {
             "outlinewidth": 0,
             "ticks": ""
            },
            "colorscale": [
             [
              0,
              "#0d0887"
             ],
             [
              0.1111111111111111,
              "#46039f"
             ],
             [
              0.2222222222222222,
              "#7201a8"
             ],
             [
              0.3333333333333333,
              "#9c179e"
             ],
             [
              0.4444444444444444,
              "#bd3786"
             ],
             [
              0.5555555555555556,
              "#d8576b"
             ],
             [
              0.6666666666666666,
              "#ed7953"
             ],
             [
              0.7777777777777778,
              "#fb9f3a"
             ],
             [
              0.8888888888888888,
              "#fdca26"
             ],
             [
              1,
              "#f0f921"
             ]
            ],
            "type": "heatmap"
           }
          ],
          "heatmapgl": [
           {
            "colorbar": {
             "outlinewidth": 0,
             "ticks": ""
            },
            "colorscale": [
             [
              0,
              "#0d0887"
             ],
             [
              0.1111111111111111,
              "#46039f"
             ],
             [
              0.2222222222222222,
              "#7201a8"
             ],
             [
              0.3333333333333333,
              "#9c179e"
             ],
             [
              0.4444444444444444,
              "#bd3786"
             ],
             [
              0.5555555555555556,
              "#d8576b"
             ],
             [
              0.6666666666666666,
              "#ed7953"
             ],
             [
              0.7777777777777778,
              "#fb9f3a"
             ],
             [
              0.8888888888888888,
              "#fdca26"
             ],
             [
              1,
              "#f0f921"
             ]
            ],
            "type": "heatmapgl"
           }
          ],
          "histogram": [
           {
            "marker": {
             "pattern": {
              "fillmode": "overlay",
              "size": 10,
              "solidity": 0.2
             }
            },
            "type": "histogram"
           }
          ],
          "histogram2d": [
           {
            "colorbar": {
             "outlinewidth": 0,
             "ticks": ""
            },
            "colorscale": [
             [
              0,
              "#0d0887"
             ],
             [
              0.1111111111111111,
              "#46039f"
             ],
             [
              0.2222222222222222,
              "#7201a8"
             ],
             [
              0.3333333333333333,
              "#9c179e"
             ],
             [
              0.4444444444444444,
              "#bd3786"
             ],
             [
              0.5555555555555556,
              "#d8576b"
             ],
             [
              0.6666666666666666,
              "#ed7953"
             ],
             [
              0.7777777777777778,
              "#fb9f3a"
             ],
             [
              0.8888888888888888,
              "#fdca26"
             ],
             [
              1,
              "#f0f921"
             ]
            ],
            "type": "histogram2d"
           }
          ],
          "histogram2dcontour": [
           {
            "colorbar": {
             "outlinewidth": 0,
             "ticks": ""
            },
            "colorscale": [
             [
              0,
              "#0d0887"
             ],
             [
              0.1111111111111111,
              "#46039f"
             ],
             [
              0.2222222222222222,
              "#7201a8"
             ],
             [
              0.3333333333333333,
              "#9c179e"
             ],
             [
              0.4444444444444444,
              "#bd3786"
             ],
             [
              0.5555555555555556,
              "#d8576b"
             ],
             [
              0.6666666666666666,
              "#ed7953"
             ],
             [
              0.7777777777777778,
              "#fb9f3a"
             ],
             [
              0.8888888888888888,
              "#fdca26"
             ],
             [
              1,
              "#f0f921"
             ]
            ],
            "type": "histogram2dcontour"
           }
          ],
          "mesh3d": [
           {
            "colorbar": {
             "outlinewidth": 0,
             "ticks": ""
            },
            "type": "mesh3d"
           }
          ],
          "parcoords": [
           {
            "line": {
             "colorbar": {
              "outlinewidth": 0,
              "ticks": ""
             }
            },
            "type": "parcoords"
           }
          ],
          "pie": [
           {
            "automargin": true,
            "type": "pie"
           }
          ],
          "scatter": [
           {
            "fillpattern": {
             "fillmode": "overlay",
             "size": 10,
             "solidity": 0.2
            },
            "type": "scatter"
           }
          ],
          "scatter3d": [
           {
            "line": {
             "colorbar": {
              "outlinewidth": 0,
              "ticks": ""
             }
            },
            "marker": {
             "colorbar": {
              "outlinewidth": 0,
              "ticks": ""
             }
            },
            "type": "scatter3d"
           }
          ],
          "scattercarpet": [
           {
            "marker": {
             "colorbar": {
              "outlinewidth": 0,
              "ticks": ""
             }
            },
            "type": "scattercarpet"
           }
          ],
          "scattergeo": [
           {
            "marker": {
             "colorbar": {
              "outlinewidth": 0,
              "ticks": ""
             }
            },
            "type": "scattergeo"
           }
          ],
          "scattergl": [
           {
            "marker": {
             "colorbar": {
              "outlinewidth": 0,
              "ticks": ""
             }
            },
            "type": "scattergl"
           }
          ],
          "scattermapbox": [
           {
            "marker": {
             "colorbar": {
              "outlinewidth": 0,
              "ticks": ""
             }
            },
            "type": "scattermapbox"
           }
          ],
          "scatterpolar": [
           {
            "marker": {
             "colorbar": {
              "outlinewidth": 0,
              "ticks": ""
             }
            },
            "type": "scatterpolar"
           }
          ],
          "scatterpolargl": [
           {
            "marker": {
             "colorbar": {
              "outlinewidth": 0,
              "ticks": ""
             }
            },
            "type": "scatterpolargl"
           }
          ],
          "scatterternary": [
           {
            "marker": {
             "colorbar": {
              "outlinewidth": 0,
              "ticks": ""
             }
            },
            "type": "scatterternary"
           }
          ],
          "surface": [
           {
            "colorbar": {
             "outlinewidth": 0,
             "ticks": ""
            },
            "colorscale": [
             [
              0,
              "#0d0887"
             ],
             [
              0.1111111111111111,
              "#46039f"
             ],
             [
              0.2222222222222222,
              "#7201a8"
             ],
             [
              0.3333333333333333,
              "#9c179e"
             ],
             [
              0.4444444444444444,
              "#bd3786"
             ],
             [
              0.5555555555555556,
              "#d8576b"
             ],
             [
              0.6666666666666666,
              "#ed7953"
             ],
             [
              0.7777777777777778,
              "#fb9f3a"
             ],
             [
              0.8888888888888888,
              "#fdca26"
             ],
             [
              1,
              "#f0f921"
             ]
            ],
            "type": "surface"
           }
          ],
          "table": [
           {
            "cells": {
             "fill": {
              "color": "#EBF0F8"
             },
             "line": {
              "color": "white"
             }
            },
            "header": {
             "fill": {
              "color": "#C8D4E3"
             },
             "line": {
              "color": "white"
             }
            },
            "type": "table"
           }
          ]
         },
         "layout": {
          "annotationdefaults": {
           "arrowcolor": "#2a3f5f",
           "arrowhead": 0,
           "arrowwidth": 1
          },
          "autotypenumbers": "strict",
          "coloraxis": {
           "colorbar": {
            "outlinewidth": 0,
            "ticks": ""
           }
          },
          "colorscale": {
           "diverging": [
            [
             0,
             "#8e0152"
            ],
            [
             0.1,
             "#c51b7d"
            ],
            [
             0.2,
             "#de77ae"
            ],
            [
             0.3,
             "#f1b6da"
            ],
            [
             0.4,
             "#fde0ef"
            ],
            [
             0.5,
             "#f7f7f7"
            ],
            [
             0.6,
             "#e6f5d0"
            ],
            [
             0.7,
             "#b8e186"
            ],
            [
             0.8,
             "#7fbc41"
            ],
            [
             0.9,
             "#4d9221"
            ],
            [
             1,
             "#276419"
            ]
           ],
           "sequential": [
            [
             0,
             "#0d0887"
            ],
            [
             0.1111111111111111,
             "#46039f"
            ],
            [
             0.2222222222222222,
             "#7201a8"
            ],
            [
             0.3333333333333333,
             "#9c179e"
            ],
            [
             0.4444444444444444,
             "#bd3786"
            ],
            [
             0.5555555555555556,
             "#d8576b"
            ],
            [
             0.6666666666666666,
             "#ed7953"
            ],
            [
             0.7777777777777778,
             "#fb9f3a"
            ],
            [
             0.8888888888888888,
             "#fdca26"
            ],
            [
             1,
             "#f0f921"
            ]
           ],
           "sequentialminus": [
            [
             0,
             "#0d0887"
            ],
            [
             0.1111111111111111,
             "#46039f"
            ],
            [
             0.2222222222222222,
             "#7201a8"
            ],
            [
             0.3333333333333333,
             "#9c179e"
            ],
            [
             0.4444444444444444,
             "#bd3786"
            ],
            [
             0.5555555555555556,
             "#d8576b"
            ],
            [
             0.6666666666666666,
             "#ed7953"
            ],
            [
             0.7777777777777778,
             "#fb9f3a"
            ],
            [
             0.8888888888888888,
             "#fdca26"
            ],
            [
             1,
             "#f0f921"
            ]
           ]
          },
          "colorway": [
           "#636efa",
           "#EF553B",
           "#00cc96",
           "#ab63fa",
           "#FFA15A",
           "#19d3f3",
           "#FF6692",
           "#B6E880",
           "#FF97FF",
           "#FECB52"
          ],
          "font": {
           "color": "#2a3f5f"
          },
          "geo": {
           "bgcolor": "white",
           "lakecolor": "white",
           "landcolor": "#E5ECF6",
           "showlakes": true,
           "showland": true,
           "subunitcolor": "white"
          },
          "hoverlabel": {
           "align": "left"
          },
          "hovermode": "closest",
          "mapbox": {
           "style": "light"
          },
          "paper_bgcolor": "white",
          "plot_bgcolor": "#E5ECF6",
          "polar": {
           "angularaxis": {
            "gridcolor": "white",
            "linecolor": "white",
            "ticks": ""
           },
           "bgcolor": "#E5ECF6",
           "radialaxis": {
            "gridcolor": "white",
            "linecolor": "white",
            "ticks": ""
           }
          },
          "scene": {
           "xaxis": {
            "backgroundcolor": "#E5ECF6",
            "gridcolor": "white",
            "gridwidth": 2,
            "linecolor": "white",
            "showbackground": true,
            "ticks": "",
            "zerolinecolor": "white"
           },
           "yaxis": {
            "backgroundcolor": "#E5ECF6",
            "gridcolor": "white",
            "gridwidth": 2,
            "linecolor": "white",
            "showbackground": true,
            "ticks": "",
            "zerolinecolor": "white"
           },
           "zaxis": {
            "backgroundcolor": "#E5ECF6",
            "gridcolor": "white",
            "gridwidth": 2,
            "linecolor": "white",
            "showbackground": true,
            "ticks": "",
            "zerolinecolor": "white"
           }
          },
          "shapedefaults": {
           "line": {
            "color": "#2a3f5f"
           }
          },
          "ternary": {
           "aaxis": {
            "gridcolor": "white",
            "linecolor": "white",
            "ticks": ""
           },
           "baxis": {
            "gridcolor": "white",
            "linecolor": "white",
            "ticks": ""
           },
           "bgcolor": "#E5ECF6",
           "caxis": {
            "gridcolor": "white",
            "linecolor": "white",
            "ticks": ""
           }
          },
          "title": {
           "x": 0.05
          },
          "xaxis": {
           "automargin": true,
           "gridcolor": "white",
           "linecolor": "white",
           "ticks": "",
           "title": {
            "standoff": 15
           },
           "zerolinecolor": "white",
           "zerolinewidth": 2
          },
          "yaxis": {
           "automargin": true,
           "gridcolor": "white",
           "linecolor": "white",
           "ticks": "",
           "title": {
            "standoff": 15
           },
           "zerolinecolor": "white",
           "zerolinewidth": 2
          }
         }
        },
        "updatemenus": [
         {
          "buttons": [
           {
            "args": [
             null,
             {
              "frame": {
               "duration": 500,
               "redraw": true
              },
              "fromcurrent": true,
              "mode": "immediate",
              "transition": {
               "duration": 500,
               "easing": "linear"
              }
             }
            ],
            "label": "&#9654;",
            "method": "animate"
           },
           {
            "args": [
             [
              null
             ],
             {
              "frame": {
               "duration": 0,
               "redraw": true
              },
              "fromcurrent": true,
              "mode": "immediate",
              "transition": {
               "duration": 0,
               "easing": "linear"
              }
             }
            ],
            "label": "&#9724;",
            "method": "animate"
           }
          ],
          "direction": "left",
          "pad": {
           "r": 10,
           "t": 70
          },
          "showactive": false,
          "type": "buttons",
          "x": 0.1,
          "xanchor": "right",
          "y": 0,
          "yanchor": "top"
         }
        ]
       }
      }
     },
     "metadata": {},
     "output_type": "display_data"
    }
   ],
   "source": [
    "fig = px.density_mapbox(MRT_2021_sum_with_coord, lat='緯度', lon='經度', z='人次', radius=50, zoom=12.5,\n",
    "                        center=dict(lat=25.033671, lon=121.564427),\n",
    "                        mapbox_style=\"carto-positron\", animation_frame=\"時段\", hover_name=\"exit\",\n",
    "                        color_continuous_scale='amp')\n",
    "fig"
   ]
  },
  {
   "cell_type": "code",
   "execution_count": 15,
   "metadata": {},
   "outputs": [
    {
     "data": {
      "text/html": [
       "<div>\n",
       "<style scoped>\n",
       "    .dataframe tbody tr th:only-of-type {\n",
       "        vertical-align: middle;\n",
       "    }\n",
       "\n",
       "    .dataframe tbody tr th {\n",
       "        vertical-align: top;\n",
       "    }\n",
       "\n",
       "    .dataframe thead th {\n",
       "        text-align: right;\n",
       "    }\n",
       "</style>\n",
       "<table border=\"1\" class=\"dataframe\">\n",
       "  <thead>\n",
       "    <tr style=\"text-align: right;\">\n",
       "      <th></th>\n",
       "      <th></th>\n",
       "      <th>人次</th>\n",
       "    </tr>\n",
       "    <tr>\n",
       "      <th>進站</th>\n",
       "      <th>時段</th>\n",
       "      <th></th>\n",
       "    </tr>\n",
       "  </thead>\n",
       "  <tbody>\n",
       "    <tr>\n",
       "      <th rowspan=\"4\" valign=\"top\">台北車站</th>\n",
       "      <th>18</th>\n",
       "      <td>6.575462</td>\n",
       "    </tr>\n",
       "    <tr>\n",
       "      <th>17</th>\n",
       "      <td>6.485979</td>\n",
       "    </tr>\n",
       "    <tr>\n",
       "      <th>19</th>\n",
       "      <td>6.460898</td>\n",
       "    </tr>\n",
       "    <tr>\n",
       "      <th>8</th>\n",
       "      <td>6.442758</td>\n",
       "    </tr>\n",
       "    <tr>\n",
       "      <th>市政府</th>\n",
       "      <th>18</th>\n",
       "      <td>6.396186</td>\n",
       "    </tr>\n",
       "    <tr>\n",
       "      <th>...</th>\n",
       "      <th>...</th>\n",
       "      <td>...</td>\n",
       "    </tr>\n",
       "    <tr>\n",
       "      <th>小碧潭</th>\n",
       "      <th>3</th>\n",
       "      <td>-inf</td>\n",
       "    </tr>\n",
       "    <tr>\n",
       "      <th>新北投</th>\n",
       "      <th>2</th>\n",
       "      <td>-inf</td>\n",
       "    </tr>\n",
       "    <tr>\n",
       "      <th rowspan=\"2\" valign=\"top\">小碧潭</th>\n",
       "      <th>2</th>\n",
       "      <td>-inf</td>\n",
       "    </tr>\n",
       "    <tr>\n",
       "      <th>4</th>\n",
       "      <td>-inf</td>\n",
       "    </tr>\n",
       "    <tr>\n",
       "      <th>新北投</th>\n",
       "      <th>3</th>\n",
       "      <td>-inf</td>\n",
       "    </tr>\n",
       "  </tbody>\n",
       "</table>\n",
       "<p>2856 rows × 1 columns</p>\n",
       "</div>"
      ],
      "text/plain": [
       "               人次\n",
       "進站   時段          \n",
       "台北車站 18  6.575462\n",
       "     17  6.485979\n",
       "     19  6.460898\n",
       "     8   6.442758\n",
       "市政府  18  6.396186\n",
       "...           ...\n",
       "小碧潭  3       -inf\n",
       "新北投  2       -inf\n",
       "小碧潭  2       -inf\n",
       "     4       -inf\n",
       "新北投  3       -inf\n",
       "\n",
       "[2856 rows x 1 columns]"
      ]
     },
     "execution_count": 15,
     "metadata": {},
     "output_type": "execute_result"
    }
   ],
   "source": [
    "pd.read_parquet(r\"C:\\Users\\peipeipig\\OneDrive\\桌面\\Python\\YoubikeUsagePrediction\\project\\DATA\\MRT\\agg_enter_station_station_mrt.pq\")"
   ]
  }
 ],
 "metadata": {
  "kernelspec": {
   "display_name": "autoclick",
   "language": "python",
   "name": "python3"
  },
  "language_info": {
   "codemirror_mode": {
    "name": "ipython",
    "version": 3
   },
   "file_extension": ".py",
   "mimetype": "text/x-python",
   "name": "python",
   "nbconvert_exporter": "python",
   "pygments_lexer": "ipython3",
   "version": "3.11.4"
  }
 },
 "nbformat": 4,
 "nbformat_minor": 2
}
